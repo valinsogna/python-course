{
 "cells": [
  {
   "cell_type": "markdown",
   "metadata": {},
   "source": [
    "##  Error handling"
   ]
  },
  {
   "cell_type": "markdown",
   "metadata": {},
   "source": [
    "## Handling exceptions\n",
    "\n",
    "* handling exceptions using try, except, finally keywords\n",
    " * finally is executed no matters what\n",
    " * finally is good to release external resources\n",
    "* common exceptions are ZeroDivisionError, NameError, TypeError, ValueError, SyntaxError\n",
    "* exceptions of type AssertionError: assert keyword\n",
    "* exceptions of type Exception:  raise keyword\n",
    " \n",
    "``` python    \n",
    "try: \n",
    "    <try-body-block>    \n",
    "except <Exception-name> as <alias>: \n",
    "    <except-body-block>        \n",
    "```"
   ]
  },
  {
   "cell_type": "code",
   "execution_count": 3,
   "metadata": {},
   "outputs": [
    {
     "name": "stdout",
     "output_type": "stream",
     "text": [
      "# let's catch some common exceptions\n",
      "\n",
      "1/0\n",
      "----------- <class 'ZeroDivisionError'> : division by zero\n",
      "---last but not least, finally is executed---\n",
      "\n",
      "4+unknown_var\n",
      "----------- <class 'NameError'> : name 'unknown_var' is not defined\n",
      "---last but not least, finally is executed---\n",
      "\n",
      "2+\"2\"\n",
      "----------- <class 'TypeError'> : unsupported operand type(s) for +: 'int' and 'str'\n",
      "---last but not least, finally is executed---\n",
      "\n",
      "int('s')\n",
      "----------- <class 'ValueError'> : invalid literal for int() with base 10: 's'\n",
      "---last but not least, finally is executed---\n",
      "\n",
      "print 1\n",
      "----------- <class 'SyntaxError'> : Missing parentheses in call to 'print'. Did you mean print(1)? (<string>, line 1)\n",
      "---last but not least, finally is executed---\n",
      "\n"
     ]
    }
   ],
   "source": [
    "print(\"# let's catch some common exceptions\\n\")\n",
    "to_execute = [\"1/0\", \"4+unknown_var\", '2+\"2\"', \"int('s')\", \"print 1\"]\n",
    "for i in to_execute:\n",
    "    try:\n",
    "        print(i)\n",
    "        eval(i)\n",
    "        print(\"I am not going to be printed\")\n",
    "    except Exception as err:\n",
    "        print(\"-----------\",type(err),\":\",err)\n",
    "    except (ZeroDivisionError, NameError, TypeError, ValueError) as err:\n",
    "        print(type(err), \":\", err)\n",
    "    except SyntaxError as err:\n",
    "        print(\"'print 1' was not caught because it causes SyntaxError\")\n",
    "        print(type(err), \":\", err)\n",
    "    finally:  # should be at the end of try statement\n",
    "        # useful to make sure all resources are released\n",
    "        # even if an exception occurs\n",
    "        # even if no exception was caught\n",
    "        print(\"---last but not least, finally is executed---\\n\")"
   ]
  },
  {
   "cell_type": "markdown",
   "metadata": {},
   "source": [
    "###  Asserts"
   ]
  },
  {
   "cell_type": "code",
   "execution_count": 7,
   "metadata": {},
   "outputs": [
    {
     "name": "stdout",
     "output_type": "stream",
     "text": [
      "x is negative\n"
     ]
    }
   ],
   "source": [
    "x = -1\n",
    "try:\n",
    "    assert x >= 0, \"x is negative\" #synatx: <assert> <condition>. If cond tion is false it is through an exception! \n",
    "except AssertionError as err:\n",
    "    print(err)"
   ]
  },
  {
   "cell_type": "code",
   "execution_count": 1,
   "metadata": {},
   "outputs": [
    {
     "ename": "ValueError",
     "evalue": "day cannot be negative",
     "output_type": "error",
     "traceback": [
      "\u001b[0;31m---------------------------------------------------------------------------\u001b[0m",
      "\u001b[0;31mValueError\u001b[0m                                Traceback (most recent call last)",
      "\u001b[0;32m<ipython-input-1-a6e7d786f120>\u001b[0m in \u001b[0;36m<module>\u001b[0;34m\u001b[0m\n\u001b[1;32m      4\u001b[0m \u001b[0;34m\u001b[0m\u001b[0m\n\u001b[1;32m      5\u001b[0m \u001b[0;34m\u001b[0m\u001b[0m\n\u001b[0;32m----> 6\u001b[0;31m \u001b[0mcheck_date_validity\u001b[0m\u001b[0;34m(\u001b[0m\u001b[0;34m-\u001b[0m\u001b[0;36m11\u001b[0m\u001b[0;34m,\u001b[0m \u001b[0;36m1\u001b[0m\u001b[0;34m,\u001b[0m \u001b[0;36m1\u001b[0m\u001b[0;34m)\u001b[0m\u001b[0;34m\u001b[0m\u001b[0;34m\u001b[0m\u001b[0m\n\u001b[0m",
      "\u001b[0;32m<ipython-input-1-a6e7d786f120>\u001b[0m in \u001b[0;36mcheck_date_validity\u001b[0;34m(day, month, year)\u001b[0m\n\u001b[1;32m      1\u001b[0m \u001b[0;32mdef\u001b[0m \u001b[0mcheck_date_validity\u001b[0m\u001b[0;34m(\u001b[0m\u001b[0mday\u001b[0m\u001b[0;34m,\u001b[0m \u001b[0mmonth\u001b[0m\u001b[0;34m,\u001b[0m \u001b[0myear\u001b[0m\u001b[0;34m)\u001b[0m\u001b[0;34m:\u001b[0m\u001b[0;34m\u001b[0m\u001b[0;34m\u001b[0m\u001b[0m\n\u001b[1;32m      2\u001b[0m     \u001b[0;32mif\u001b[0m \u001b[0mday\u001b[0m \u001b[0;34m<=\u001b[0m \u001b[0;36m0\u001b[0m\u001b[0;34m:\u001b[0m\u001b[0;34m\u001b[0m\u001b[0;34m\u001b[0m\u001b[0m\n\u001b[0;32m----> 3\u001b[0;31m         \u001b[0;32mraise\u001b[0m \u001b[0mValueError\u001b[0m\u001b[0;34m(\u001b[0m\u001b[0;34m\"day cannot be negative\"\u001b[0m\u001b[0;34m)\u001b[0m\u001b[0;34m\u001b[0m\u001b[0;34m\u001b[0m\u001b[0m\n\u001b[0m\u001b[1;32m      4\u001b[0m \u001b[0;34m\u001b[0m\u001b[0m\n\u001b[1;32m      5\u001b[0m \u001b[0;34m\u001b[0m\u001b[0m\n",
      "\u001b[0;31mValueError\u001b[0m: day cannot be negative"
     ]
    }
   ],
   "source": [
    "def check_date_validity(day, month, year):\n",
    "    if day <= 0:\n",
    "        raise ValueError(\"day cannot be negative\") #as through in C++\n",
    "\n",
    "\n",
    "check_date_validity(-11, 1, 1)"
   ]
  },
  {
   "cell_type": "code",
   "execution_count": 8,
   "metadata": {},
   "outputs": [
    {
     "name": "stdout",
     "output_type": "stream",
     "text": [
      "<class 'Exception'>\n",
      "(1, [2], {'3': 3})\n",
      "1 [2] {'3': 3}\n",
      "cannot unpack non-iterable Exception object\n"
     ]
    }
   ],
   "source": [
    "try:\n",
    "    raise Exception(1, [2], {\"3\": 3})  # an exception can be raised\n",
    "    # with any argument\n",
    "except Exception as err:\n",
    "    print(type(err))\n",
    "    print(err)  # print its arguments\n",
    "    a, b, c = err.args\n",
    "    print(a, b, c)\n",
    "    try:\n",
    "        a, b, c = err\n",
    "    except TypeError as err:\n",
    "        print(err)"
   ]
  },
  {
   "cell_type": "code",
   "execution_count": 22,
   "metadata": {},
   "outputs": [],
   "source": [
    "import datetime\n",
    "\n",
    "\n",
    "class Date:\n",
    "    def __init__(self, day, month, year):\n",
    "        self.check_validity(day=day, month=month, year=year)\n",
    "        self._day = day\n",
    "        self._month = month\n",
    "        self._year = year\n",
    "\n",
    "    @property\n",
    "    def day(self):\n",
    "        return self._day\n",
    "\n",
    "    @day.setter\n",
    "    def day(self, value):\n",
    "        self.check_validity(day=value, month=self._month, year=self._year)\n",
    "        self._day = value\n",
    "\n",
    "    @property\n",
    "    def month(self):\n",
    "        return self._month\n",
    "\n",
    "    @month.setter\n",
    "    def month(self, value):\n",
    "        self.check_validity(day=self._day, month=value, year=self._year)\n",
    "        self._month = value\n",
    "\n",
    "    @property\n",
    "    def year(self):\n",
    "        return self._year\n",
    "\n",
    "    @year.setter\n",
    "    def year(self, value):\n",
    "        self.check_validity(day=self._day, month=self._month, year=value)\n",
    "        self._year = value\n",
    "\n",
    "    def __repr__(self):\n",
    "        return f\"{self.__class__.__name__}({self._day},{self._month},{self._year})\"\n",
    "\n",
    "    @staticmethod\n",
    "    def check_validity(day, month, year):\n",
    "        assert day > 0 and day < 32, \"day not in range\"\n",
    "        assert month > 0 and month < 13, \"month not in range\"\n",
    "\n",
    "        try:\n",
    "            datetime.date(day=day, month=month, year=year)\n",
    "        except ValueError:\n",
    "            print(f\"invalid date {day:02d}/{month:02d}/{year:4d} [dd/mm/yyyy]!\")\n",
    "            raise # rilancia l'eccezione nel caso non sia stata gestita"
   ]
  },
  {
   "cell_type": "code",
   "execution_count": 24,
   "metadata": {},
   "outputs": [
    {
     "name": "stdout",
     "output_type": "stream",
     "text": [
      "Date(5,8,1986)\n",
      "invalid date 30/02/1986 [dd/mm/yyyy]!\n",
      "day is out of range for month\n"
     ]
    }
   ],
   "source": [
    "dd = Date(5, 8, 1986)\n",
    "print(dd)\n",
    "dd.day = 9\n",
    "dd\n",
    "dd.month = 2\n",
    "dd\n",
    "try:\n",
    "    dd.day=30\n",
    "except Exception as err:\n",
    "    print(err)"
   ]
  },
  {
   "cell_type": "code",
   "execution_count": 27,
   "metadata": {},
   "outputs": [],
   "source": [
    "try:\n",
    "    dd.day=33\n",
    "except AssertionError as err:\n",
    "    pass"
   ]
  }
 ],
 "metadata": {
  "kernelspec": {
   "display_name": "Python 3",
   "language": "python",
   "name": "python3"
  },
  "language_info": {
   "codemirror_mode": {
    "name": "ipython",
    "version": 3
   },
   "file_extension": ".py",
   "mimetype": "text/x-python",
   "name": "python",
   "nbconvert_exporter": "python",
   "pygments_lexer": "ipython3",
   "version": "3.8.8"
  }
 },
 "nbformat": 4,
 "nbformat_minor": 4
}
