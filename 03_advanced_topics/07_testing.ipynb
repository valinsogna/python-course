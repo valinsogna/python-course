{
 "cells": [
  {
   "cell_type": "markdown",
   "metadata": {},
   "source": [
    "##  Simple testing\n",
    "- `unittest`: not raccomanded\n",
    "- `doctest`: raccomanded\n",
    "- `assert`\n",
    "- `if __name__ == '__main__':`\n",
    "- `__all__`\n",
    "- RTFM \n",
    "    - https://docs.python.org/3/library/unittest.html\n",
    "    - https://docs.python.org/3/library/doctest.html"
   ]
  },
  {
   "cell_type": "markdown",
   "metadata": {},
   "source": [
    " - take a look at file `my_module.py`\n",
    " - `python my_module.py`\n",
    " - `pyhton my_module.py -v`"
   ]
  },
  {
   "cell_type": "code",
   "execution_count": 1,
   "metadata": {},
   "outputs": [
    {
     "data": {
      "text/plain": [
       "['In',\n",
       " 'Out',\n",
       " 'Point',\n",
       " '_',\n",
       " '__',\n",
       " '___',\n",
       " '__builtin__',\n",
       " '__builtins__',\n",
       " '__doc__',\n",
       " '__loader__',\n",
       " '__name__',\n",
       " '__package__',\n",
       " '__spec__',\n",
       " '_dh',\n",
       " '_i',\n",
       " '_i1',\n",
       " '_ih',\n",
       " '_ii',\n",
       " '_iii',\n",
       " '_oh',\n",
       " 'exit',\n",
       " 'get_ipython',\n",
       " 'my_sum',\n",
       " 'quit']"
      ]
     },
     "execution_count": 1,
     "metadata": {},
     "output_type": "execute_result"
    }
   ],
   "source": [
    "from my_module import *\n",
    "dir()"
   ]
  },
  {
   "cell_type": "code",
   "execution_count": 2,
   "metadata": {},
   "outputs": [
    {
     "name": "stdout",
     "output_type": "stream",
     "text": [
      "...\n",
      "----------------------------------------------------------------------\n",
      "Ran 3 tests in 0.000s\n",
      "\n",
      "OK\n"
     ]
    }
   ],
   "source": [
    "!python my_module.py # __name__ == '__main__'"
   ]
  },
  {
   "cell_type": "code",
   "execution_count": 7,
   "metadata": {},
   "outputs": [],
   "source": [
    "!python my_module.py -v"
   ]
  },
  {
   "cell_type": "markdown",
   "metadata": {},
   "source": [
    "## Python `assert`"
   ]
  },
  {
   "cell_type": "code",
   "execution_count": null,
   "metadata": {},
   "outputs": [],
   "source": [
    "x = 1\n",
    "assert x < 0, 'x is supposed to be negative'"
   ]
  },
  {
   "cell_type": "code",
   "execution_count": null,
   "metadata": {},
   "outputs": [],
   "source": [
    "assert x > 0, 'x is supposed to be positive'"
   ]
  },
  {
   "cell_type": "markdown",
   "metadata": {},
   "source": [
    "### Do not use parenthesis with `assert`s"
   ]
  },
  {
   "cell_type": "code",
   "execution_count": null,
   "metadata": {},
   "outputs": [],
   "source": [
    "assert (x < 0, 'x is supposed to be negative')"
   ]
  },
  {
   "cell_type": "markdown",
   "metadata": {},
   "source": [
    "## Pytest\n",
    " -  install with `conda` or `pip`\n",
    " - simple `assert`\n",
    " - recursive searching for `test_*` or `*_test.py` files\n",
    "\n",
    "#### How to use it\n",
    "- run `pytest`\n",
    "- with `doctest`, run `pytest --doctest-modules` \n"
   ]
  },
  {
   "cell_type": "code",
   "execution_count": 16,
   "metadata": {},
   "outputs": [
    {
     "name": "stdout",
     "output_type": "stream",
     "text": [
      "/scratch/src/miniconda3/envs/lab/lib/python3.7/site-packages/dash/testing/plugin.py:17: UserWarning:\n",
      "\n",
      "run `pip install dash[testing]` if you need dash.testing\n",
      "\n",
      "\u001b[1m============================= test session starts ==============================\u001b[0m\n",
      "platform linux -- Python 3.7.6, pytest-5.4.1, py-1.8.1, pluggy-0.13.1\n",
      "rootdir: /scratch/src/smact/lectures/01/03_advanced_topics\n",
      "plugins: dash-1.4.1\n",
      "collected 9 items                                                              \u001b[0m\n",
      "\n",
      "test_sequence.py \u001b[32m.\u001b[0m\u001b[32m.\u001b[0m\u001b[32m.\u001b[0m\u001b[32m.\u001b[0m\u001b[32m.\u001b[0m\u001b[32m.\u001b[0m\u001b[32m.\u001b[0m\u001b[32m.\u001b[0m\u001b[31mF\u001b[0m\u001b[31m                                               [100%]\u001b[0m\n",
      "\n",
      "=================================== FAILURES ===================================\n",
      "\u001b[31m\u001b[1m__________________________________ test_iter ___________________________________\u001b[0m\n",
      "\n",
      "default_sequence = Sequence([0, 1, 2])\n",
      "\n",
      "    \u001b[94mdef\u001b[39;49;00m \u001b[92mtest_iter\u001b[39;49;00m(default_sequence):\n",
      "        i = \u001b[96miter\u001b[39;49;00m(default_sequence)\n",
      "        \u001b[94massert\u001b[39;49;00m \u001b[96mnext\u001b[39;49;00m(i) == \u001b[94m0\u001b[39;49;00m\n",
      "        \u001b[94massert\u001b[39;49;00m \u001b[96mnext\u001b[39;49;00m(i) == \u001b[94m1\u001b[39;49;00m\n",
      "        \u001b[90m#assert next(i) == 2\u001b[39;49;00m\n",
      "    \n",
      "        \u001b[90m## now we expect an exception\u001b[39;49;00m\n",
      "        \u001b[94mwith\u001b[39;49;00m pytest.raises(\u001b[96mStopIteration\u001b[39;49;00m):\n",
      ">           \u001b[96mnext\u001b[39;49;00m(i)\n",
      "\u001b[1m\u001b[31mE           Failed: DID NOT RAISE <class 'StopIteration'>\u001b[0m\n",
      "\n",
      "\u001b[1m\u001b[31mtest_sequence.py\u001b[0m:70: Failed\n",
      "=========================== short test summary info ============================\n",
      "FAILED test_sequence.py::test_iter - Failed: DID NOT RAISE <class 'StopIterat...\n",
      "\u001b[31m========================= \u001b[31m\u001b[1m1 failed\u001b[0m, \u001b[32m8 passed\u001b[0m\u001b[31m in 0.19s\u001b[0m\u001b[31m ==========================\u001b[0m\n"
     ]
    }
   ],
   "source": [
    "!pytest"
   ]
  },
  {
   "cell_type": "code",
   "execution_count": 13,
   "metadata": {},
   "outputs": [
    {
     "name": "stdout",
     "output_type": "stream",
     "text": [
      "/scratch/src/miniconda3/envs/lab/lib/python3.7/site-packages/dash/testing/plugin.py:17: UserWarning:\n",
      "\n",
      "run `pip install dash[testing]` if you need dash.testing\n",
      "\n",
      "\u001b[1m============================= test session starts ==============================\u001b[0m\n",
      "platform linux -- Python 3.7.6, pytest-5.4.1, py-1.8.1, pluggy-0.13.1\n",
      "rootdir: /scratch/src/smact/lectures/01/03_advanced_topics\n",
      "plugins: dash-1.4.1\n",
      "collected 12 items                                                             \u001b[0m\n",
      "\n",
      "my_module.py \u001b[32m.\u001b[0m\u001b[32m.\u001b[0m\u001b[32m.\u001b[0m\u001b[32m                                                         [ 25%]\u001b[0m\n",
      "test_sequence.py \u001b[32m.\u001b[0m\u001b[32m.\u001b[0m\u001b[32m.\u001b[0m\u001b[32m.\u001b[0m\u001b[32m.\u001b[0m\u001b[32m.\u001b[0m\u001b[32m.\u001b[0m\u001b[32m.\u001b[0m\u001b[32m.\u001b[0m\u001b[32m                                               [100%]\u001b[0m\n",
      "\n",
      "\u001b[32m============================== \u001b[32m\u001b[1m12 passed\u001b[0m\u001b[32m in 0.05s\u001b[0m\u001b[32m ==============================\u001b[0m\n"
     ]
    }
   ],
   "source": [
    "!pytest --doctest-modules"
   ]
  },
  {
   "cell_type": "code",
   "execution_count": 1,
   "metadata": {},
   "outputs": [
    {
     "name": "stdout",
     "output_type": "stream",
     "text": [
      "Help on built-in function print in module builtins:\n",
      "\n",
      "print(...)\n",
      "    print(value, ..., sep=' ', end='\\n', file=sys.stdout, flush=False)\n",
      "    \n",
      "    Prints the values to a stream, or to sys.stdout by default.\n",
      "    Optional keyword arguments:\n",
      "    file:  a file-like object (stream); defaults to the current sys.stdout.\n",
      "    sep:   string inserted between values, default a space.\n",
      "    end:   string appended after the last value, default a newline.\n",
      "    flush: whether to forcibly flush the stream.\n",
      "\n"
     ]
    }
   ],
   "source": [
    "help(print)"
   ]
  },
  {
   "cell_type": "code",
   "execution_count": 11,
   "metadata": {},
   "outputs": [
    {
     "name": "stdout",
     "output_type": "stream",
     "text": [
      "0.10\n",
      "0.20\n",
      "0.30\n",
      "0.40\n",
      "0.50\n",
      "0.60\n",
      "0.70\n",
      "0.80\n",
      "0.90\n"
     ]
    }
   ],
   "source": [
    "i=0.1\n",
    "while abs(i-1.0) > 1e-15:\n",
    "    print(f\"{i:.2f}\")\n",
    "    i+=0.1\n",
    "    if i > 2:\n",
    "          break\n",
    "\n",
    "    \n"
   ]
  }
 ],
 "metadata": {
  "kernelspec": {
   "display_name": "Python 3",
   "language": "python",
   "name": "python3"
  },
  "language_info": {
   "codemirror_mode": {
    "name": "ipython",
    "version": 3
   },
   "file_extension": ".py",
   "mimetype": "text/x-python",
   "name": "python",
   "nbconvert_exporter": "python",
   "pygments_lexer": "ipython3",
   "version": "3.8.8"
  }
 },
 "nbformat": 4,
 "nbformat_minor": 4
}
