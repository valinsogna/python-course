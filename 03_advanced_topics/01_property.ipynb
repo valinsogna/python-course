{
 "cells": [
  {
   "cell_type": "markdown",
   "metadata": {},
   "source": [
    "##  Property\n",
    "- make an attribute **constant** (read only)\n",
    "- perform specific actions (e.g., error checking, pre/post-conditions) when an attribute is **set** "
   ]
  },
  {
   "cell_type": "markdown",
   "metadata": {},
   "source": [
    "###  const"
   ]
  },
  {
   "cell_type": "code",
   "execution_count": 1,
   "metadata": {},
   "outputs": [
    {
     "name": "stdout",
     "output_type": "stream",
     "text": [
      "0 4\n"
     ]
    }
   ],
   "source": [
    "class Point:\n",
    "    def __init__(self, x, y):\n",
    "        self.x = x\n",
    "        self.y = y\n",
    "\n",
    "    # other methods are omitted\n",
    "\n",
    "\n",
    "def use_point(p):\n",
    "    # complicated stuff\n",
    "    p.x = 0  # bug, I would like to have p.x, p.y const\n",
    "\n",
    "\n",
    "p = Point(3, 4)\n",
    "\n",
    "use_point(p)\n",
    "\n",
    "print(p.x, p.y)"
   ]
  },
  {
   "cell_type": "code",
   "execution_count": 3,
   "metadata": {},
   "outputs": [
    {
     "name": "stdout",
     "output_type": "stream",
     "text": [
      "99 4\n"
     ]
    }
   ],
   "source": [
    "class Point:\n",
    "    def __init__(self, x, y):\n",
    "        self._x = x\n",
    "        self._y = y\n",
    "\n",
    "    @property\n",
    "    def x(self):\n",
    "        return self._x\n",
    "\n",
    "    @property\n",
    "    def y(self):\n",
    "        return self._y\n",
    "\n",
    "    # other methods are omitted\n",
    "\n",
    "\n",
    "def use_point(p):\n",
    "    # complicated stuff\n",
    "    #p.x = 0 # I expect an error\n",
    "    p._x = 99 # works\n",
    "\n",
    "\n",
    "p = Point(3, 4)\n",
    "\n",
    "use_point(p)\n",
    "\n",
    "print(p.x, p.y)\n"
   ]
  },
  {
   "cell_type": "markdown",
   "metadata": {},
   "source": [
    "### Perform some checks"
   ]
  },
  {
   "cell_type": "code",
   "execution_count": 7,
   "metadata": {},
   "outputs": [
    {
     "name": "stdout",
     "output_type": "stream",
     "text": [
      "5\n",
      "validating date...Done\n",
      "12\n"
     ]
    }
   ],
   "source": [
    "class Date:\n",
    "    def __init__(self, day, month, year):\n",
    "        self._day = day\n",
    "        self._month = month\n",
    "        self._year = year\n",
    "\n",
    "    def check_validity(self, day, month, year):\n",
    "        # should check if the date is valid\n",
    "        print(\"validating date...\", end=\"\")\n",
    "        # what should I do if the date is not good?\n",
    "        print(\"Done\")\n",
    "\n",
    "    @property\n",
    "    def day(self):\n",
    "        'day attribute'\n",
    "        return self._day\n",
    "\n",
    "    @day.setter #used for changing members: ex. from polar coordinators to cartesian ones!\n",
    "    def day(self, new_day):\n",
    "        self.check_validity(new_day, self._month, self._year)\n",
    "        self._day = new_day\n",
    "\n",
    "\n",
    "d = Date(5, 8, 1986)\n",
    "\n",
    "print(d.day)\n",
    "d.day = 12\n",
    "print(d.day)"
   ]
  },
  {
   "cell_type": "code",
   "execution_count": 9,
   "metadata": {},
   "outputs": [
    {
     "data": {
      "text/plain": [
       "99"
      ]
     },
     "execution_count": 9,
     "metadata": {},
     "output_type": "execute_result"
    }
   ],
   "source": [
    "d._day = 99\n",
    "d.day"
   ]
  },
  {
   "cell_type": "code",
   "execution_count": 6,
   "metadata": {},
   "outputs": [
    {
     "name": "stdout",
     "output_type": "stream",
     "text": [
      "Help on class property in module builtins:\n",
      "\n",
      "class property(object)\n",
      " |  property(fget=None, fset=None, fdel=None, doc=None)\n",
      " |  \n",
      " |  Property attribute.\n",
      " |  \n",
      " |    fget\n",
      " |      function to be used for getting an attribute value\n",
      " |    fset\n",
      " |      function to be used for setting an attribute value\n",
      " |    fdel\n",
      " |      function to be used for del'ing an attribute\n",
      " |    doc\n",
      " |      docstring\n",
      " |  \n",
      " |  Typical use is to define a managed attribute x:\n",
      " |  \n",
      " |  class C(object):\n",
      " |      def getx(self): return self._x\n",
      " |      def setx(self, value): self._x = value\n",
      " |      def delx(self): del self._x\n",
      " |      x = property(getx, setx, delx, \"I'm the 'x' property.\")\n",
      " |  \n",
      " |  Decorators make defining new properties or modifying existing ones easy:\n",
      " |  \n",
      " |  class C(object):\n",
      " |      @property\n",
      " |      def x(self):\n",
      " |          \"I am the 'x' property.\"\n",
      " |          return self._x\n",
      " |      @x.setter\n",
      " |      def x(self, value):\n",
      " |          self._x = value\n",
      " |      @x.deleter\n",
      " |      def x(self):\n",
      " |          del self._x\n",
      " |  \n",
      " |  Methods defined here:\n",
      " |  \n",
      " |  __delete__(self, instance, /)\n",
      " |      Delete an attribute of instance.\n",
      " |  \n",
      " |  __get__(self, instance, owner, /)\n",
      " |      Return an attribute of instance, which is of type owner.\n",
      " |  \n",
      " |  __getattribute__(self, name, /)\n",
      " |      Return getattr(self, name).\n",
      " |  \n",
      " |  __init__(self, /, *args, **kwargs)\n",
      " |      Initialize self.  See help(type(self)) for accurate signature.\n",
      " |  \n",
      " |  __set__(self, instance, value, /)\n",
      " |      Set an attribute of instance to value.\n",
      " |  \n",
      " |  deleter(...)\n",
      " |      Descriptor to change the deleter on a property.\n",
      " |  \n",
      " |  getter(...)\n",
      " |      Descriptor to change the getter on a property.\n",
      " |  \n",
      " |  setter(...)\n",
      " |      Descriptor to change the setter on a property.\n",
      " |  \n",
      " |  ----------------------------------------------------------------------\n",
      " |  Static methods defined here:\n",
      " |  \n",
      " |  __new__(*args, **kwargs) from builtins.type\n",
      " |      Create and return a new object.  See help(type) for accurate signature.\n",
      " |  \n",
      " |  ----------------------------------------------------------------------\n",
      " |  Data descriptors defined here:\n",
      " |  \n",
      " |  __isabstractmethod__\n",
      " |  \n",
      " |  fdel\n",
      " |  \n",
      " |  fget\n",
      " |  \n",
      " |  fset\n",
      "\n"
     ]
    }
   ],
   "source": [
    "help(property)"
   ]
  },
  {
   "cell_type": "code",
   "execution_count": 20,
   "metadata": {},
   "outputs": [],
   "source": [
    "class circle:\n",
    "    def __init__(self,radius):\n",
    "        self._diameter = 2*radius\n",
    "    \n",
    "    @classmethod\n",
    "    def fromdiameter(cls,diameter):\n",
    "        return cls(diameter/2)\n",
    "    \n",
    "    @property\n",
    "    def r(self):\n",
    "        return self._diameter/2\n",
    "    \n",
    "    @r.setter\n",
    "    def r(self, new_radius):\n",
    "        self._diameter = 2*new_radius\n",
    "    \n",
    "    def perimeter(self):\n",
    "        from math import pi\n",
    "        return pi*self._diameter\n"
   ]
  },
  {
   "cell_type": "code",
   "execution_count": 17,
   "metadata": {},
   "outputs": [
    {
     "data": {
      "text/plain": [
       "12.566370614359172"
      ]
     },
     "execution_count": 17,
     "metadata": {},
     "output_type": "execute_result"
    }
   ],
   "source": [
    "c = circle(1)\n",
    "##\n",
    "c.r = 2\n",
    "c.perimeter()"
   ]
  },
  {
   "cell_type": "code",
   "execution_count": 18,
   "metadata": {},
   "outputs": [],
   "source": [
    "#At this point how can I do constructor overloading? Defining the diameter instead of the radius!"
   ]
  },
  {
   "cell_type": "code",
   "execution_count": 21,
   "metadata": {},
   "outputs": [
    {
     "data": {
      "text/plain": [
       "12.566370614359172"
      ]
     },
     "execution_count": 21,
     "metadata": {},
     "output_type": "execute_result"
    }
   ],
   "source": [
    "c2 = circle.fromdiameter(4)\n",
    "c2.perimeter()"
   ]
  },
  {
   "cell_type": "code",
   "execution_count": null,
   "metadata": {},
   "outputs": [],
   "source": []
  }
 ],
 "metadata": {
  "kernelspec": {
   "display_name": "Python 3",
   "language": "python",
   "name": "python3"
  },
  "language_info": {
   "codemirror_mode": {
    "name": "ipython",
    "version": 3
   },
   "file_extension": ".py",
   "mimetype": "text/x-python",
   "name": "python",
   "nbconvert_exporter": "python",
   "pygments_lexer": "ipython3",
   "version": "3.8.8"
  }
 },
 "nbformat": 4,
 "nbformat_minor": 4
}
