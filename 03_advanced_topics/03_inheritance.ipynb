{
 "cells": [
  {
   "cell_type": "markdown",
   "metadata": {},
   "source": [
    "##  Inheritance\n",
    " - instead of duck typing"
   ]
  },
  {
   "cell_type": "code",
   "execution_count": 1,
   "metadata": {},
   "outputs": [
    {
     "name": "stdout",
     "output_type": "stream",
     "text": [
      "unknown\n",
      "Bau\n"
     ]
    },
    {
     "data": {
      "text/plain": [
       "99"
      ]
     },
     "execution_count": 1,
     "metadata": {},
     "output_type": "execute_result"
    }
   ],
   "source": [
    "class Animal:\n",
    "    def __init__(self):\n",
    "        self.age = 99\n",
    "\n",
    "    def speak(self):\n",
    "        print(\"unknown\")\n",
    "\n",
    "\n",
    "class Dog(Animal): #inheritance syntax\n",
    "    def speak(self):\n",
    "        print(\"Bau\")\n",
    "        #super().speak()\n",
    "\n",
    "\n",
    "d = Dog()\n",
    "a = super(Dog, d).speak()#to access the parent class from the child\n",
    "d.speak()\n",
    "d.age"
   ]
  },
  {
   "cell_type": "code",
   "execution_count": null,
   "metadata": {},
   "outputs": [],
   "source": [
    "help(super)"
   ]
  },
  {
   "cell_type": "markdown",
   "metadata": {},
   "source": [
    "### Method resolution order"
   ]
  },
  {
   "cell_type": "code",
   "execution_count": 2,
   "metadata": {},
   "outputs": [],
   "source": [
    "class A:\n",
    "    def __init__(self):\n",
    "        self._score = 42\n",
    "        self.__find_this = 99  # kind of private methods\n",
    "\n",
    "    def foo(self):\n",
    "        print(\"A foo\")"
   ]
  },
  {
   "cell_type": "code",
   "execution_count": 4,
   "metadata": {},
   "outputs": [],
   "source": [
    "a = A()\n",
    "#a.__find_this = 77 #error! the name of the method is changed at runtime as _A__find_this. JUST USE _\n",
    "a._A__find_this = 77"
   ]
  },
  {
   "cell_type": "code",
   "execution_count": 5,
   "metadata": {},
   "outputs": [
    {
     "name": "stdout",
     "output_type": "stream",
     "text": [
      "E foo\n",
      "_score 42\n",
      "C foo\n",
      "D foo\n",
      "A foo\n",
      "42\n",
      "(<class '__main__.E'>, <class '__main__.C'>, <class '__main__.B'>, <class '__main__.D'>, <class '__main__.A'>, <class 'object'>)\n"
     ]
    }
   ],
   "source": [
    "class B(A):\n",
    "    def foo(self):\n",
    "        print(\"B foo\")\n",
    "\n",
    "\n",
    "class C(A):\n",
    "    def foo(self):\n",
    "        print(\"C foo\")\n",
    "\n",
    "\n",
    "class D(A):\n",
    "    def foo(self):\n",
    "        print(\"D foo\")\n",
    "\n",
    "\n",
    "class E(C, B, D):#multiple inheritance\n",
    "    def foo(self):\n",
    "        print(\"E foo\")\n",
    "        print(\"_score\", self._score)\n",
    "        # print(\"__find_this\", self.__find_this)\n",
    "        #print(\"__find_this\", self._A__find_this)\n",
    "\n",
    "    def bar(self):\n",
    "        self.foo()\n",
    "        super().foo() # can we predict which will be?? The forst one: C! In C++ it's more complicated: diamond rule!\n",
    "        D.foo(self)  # unbound method --> you have to pass self\n",
    "        A.foo(self)\n",
    "        print(self._score)\n",
    "\n",
    "\n",
    "e = E()\n",
    "e.bar()\n",
    "print(E.__mro__)#methods resolution order!"
   ]
  },
  {
   "cell_type": "markdown",
   "metadata": {},
   "source": [
    "### Use `isinstance` and `issubclass`, instead of `type(x) == type(y)`"
   ]
  },
  {
   "cell_type": "code",
   "execution_count": 6,
   "metadata": {},
   "outputs": [
    {
     "name": "stdout",
     "output_type": "stream",
     "text": [
      "True\n",
      "False\n",
      "False\n",
      "True\n"
     ]
    }
   ],
   "source": [
    "print(isinstance(e, A)) #isinstance can be very costly: that's why sometimes is faster to use exceptions!\n",
    "print(isinstance(e, dict))\n",
    "print(isinstance(B, A))\n",
    "print(issubclass(B, A))"
   ]
  },
  {
   "cell_type": "markdown",
   "metadata": {},
   "source": [
    "### Abstract classes?\n",
    "- Abstract Base Class (ABC)"
   ]
  },
  {
   "cell_type": "code",
   "execution_count": 7,
   "metadata": {},
   "outputs": [
    {
     "ename": "TypeError",
     "evalue": "Can't instantiate abstract class Animal with abstract methods speak",
     "output_type": "error",
     "traceback": [
      "\u001b[0;31m---------------------------------------------------------------------------\u001b[0m",
      "\u001b[0;31mTypeError\u001b[0m                                 Traceback (most recent call last)",
      "\u001b[0;32m<ipython-input-7-28953f9e4529>\u001b[0m in \u001b[0;36m<module>\u001b[0;34m\u001b[0m\n\u001b[1;32m     12\u001b[0m \u001b[0;34m\u001b[0m\u001b[0m\n\u001b[1;32m     13\u001b[0m \u001b[0;34m\u001b[0m\u001b[0m\n\u001b[0;32m---> 14\u001b[0;31m \u001b[0ma\u001b[0m \u001b[0;34m=\u001b[0m \u001b[0mAnimal\u001b[0m\u001b[0;34m(\u001b[0m\u001b[0;34m)\u001b[0m \u001b[0;31m# expect error\u001b[0m\u001b[0;34m\u001b[0m\u001b[0;34m\u001b[0m\u001b[0m\n\u001b[0m",
      "\u001b[0;31mTypeError\u001b[0m: Can't instantiate abstract class Animal with abstract methods speak"
     ]
    }
   ],
   "source": [
    "import abc\n",
    "\n",
    "\n",
    "class Animal(abc.ABC):  # Python > 3.4\n",
    "    def __init__(self, age, name):\n",
    "        self.age = age\n",
    "        self.name = name\n",
    "\n",
    "    @abc.abstractmethod\n",
    "    def speak(self):\n",
    "        pass\n",
    "\n",
    "\n",
    "a = Animal() # expect error"
   ]
  },
  {
   "cell_type": "code",
   "execution_count": 8,
   "metadata": {},
   "outputs": [],
   "source": [
    "#import abc\n",
    "# class Animal(metaclass = abc.ABCMeta): # 2 < Python < 3.4\n",
    "\n",
    "# Python 2\n",
    "# class Animal(object):\n",
    "#     __metaclass__ = abc.ABCMeta\n",
    "\n"
   ]
  },
  {
   "cell_type": "code",
   "execution_count": 9,
   "metadata": {},
   "outputs": [
    {
     "name": "stdout",
     "output_type": "stream",
     "text": [
      "Bau\n",
      "1 Fido\n"
     ]
    }
   ],
   "source": [
    "class Dog(Animal):\n",
    "    def speak(self):\n",
    "        print(\"Bau\")\n",
    "\n",
    "\n",
    "d = Dog(1, \"Fido\")\n",
    "d.speak()\n",
    "print(d.age, d.name)"
   ]
  }
 ],
 "metadata": {
  "kernelspec": {
   "display_name": "Python 3",
   "language": "python",
   "name": "python3"
  },
  "language_info": {
   "codemirror_mode": {
    "name": "ipython",
    "version": 3
   },
   "file_extension": ".py",
   "mimetype": "text/x-python",
   "name": "python",
   "nbconvert_exporter": "python",
   "pygments_lexer": "ipython3",
   "version": "3.8.8"
  }
 },
 "nbformat": 4,
 "nbformat_minor": 4
}
