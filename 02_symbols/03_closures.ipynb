{
 "cells": [
  {
   "cell_type": "markdown",
   "metadata": {},
   "source": [
    "###  free variables (aka nonlocal variables)"
   ]
  },
  {
   "cell_type": "code",
   "execution_count": 1,
   "metadata": {},
   "outputs": [],
   "source": [
    "from typing import Callable  # type hinting\n",
    "\n",
    "\n",
    "def inspect_vars(o: Callable) -> None:\n",
    "    for i in (\"co_varnames\", \"co_freevars\"):\n",
    "        print(i, eval(\"o.__code__.\" + i))"
   ]
  },
  {
   "cell_type": "code",
   "execution_count": 2,
   "metadata": {},
   "outputs": [
    {
     "name": "stdout",
     "output_type": "stream",
     "text": [
      "9.0\n",
      "10.0\n",
      "20.0\n"
     ]
    }
   ],
   "source": [
    "Average = float  # type aliasing: meaning float and Average will be treated as interchangeable synonyms\n",
    "\n",
    "\n",
    "def maker() -> Callable[[float], Average]: #returns a function Callable[[float], Avearge]: func(float) -> Average\n",
    "    so_far = []#it's not a global variable: it looks like it but it is also local! What is it? NON LOCAL variable\n",
    "\n",
    "    def avg(new_value: float) -> Average:\n",
    "        so_far.append(new_value)\n",
    "        return sum(so_far) / len(so_far)\n",
    "\n",
    "    return avg\n",
    "\n",
    "\n",
    "av = maker()# it creates a box and attach to it the label av and then returns me that box\n",
    "print(av(9))\n",
    "print(av(11))\n",
    "print(av(40))"
   ]
  },
  {
   "cell_type": "code",
   "execution_count": 3,
   "metadata": {},
   "outputs": [
    {
     "name": "stdout",
     "output_type": "stream",
     "text": [
      "co_varnames ('new_value',)\n",
      "co_freevars ('so_far',)\n"
     ]
    }
   ],
   "source": [
    "inspect_vars(av)"
   ]
  },
  {
   "cell_type": "code",
   "execution_count": 4,
   "metadata": {},
   "outputs": [
    {
     "ename": "UnboundLocalError",
     "evalue": "local variable '_sum' referenced before assignment",
     "output_type": "error",
     "traceback": [
      "\u001b[0;31m---------------------------------------------------------------------------\u001b[0m",
      "\u001b[0;31mUnboundLocalError\u001b[0m                         Traceback (most recent call last)",
      "\u001b[0;32m<ipython-input-4-de0ee92ae9cb>\u001b[0m in \u001b[0;36m<module>\u001b[0;34m\u001b[0m\n\u001b[1;32m     12\u001b[0m \u001b[0;34m\u001b[0m\u001b[0m\n\u001b[1;32m     13\u001b[0m \u001b[0mav\u001b[0m \u001b[0;34m=\u001b[0m \u001b[0mmaker_buggy\u001b[0m\u001b[0;34m(\u001b[0m\u001b[0;34m)\u001b[0m\u001b[0;34m\u001b[0m\u001b[0;34m\u001b[0m\u001b[0m\n\u001b[0;32m---> 14\u001b[0;31m \u001b[0mav\u001b[0m\u001b[0;34m(\u001b[0m\u001b[0;36m9\u001b[0m\u001b[0;34m)\u001b[0m\u001b[0;34m\u001b[0m\u001b[0;34m\u001b[0m\u001b[0m\n\u001b[0m",
      "\u001b[0;32m<ipython-input-4-de0ee92ae9cb>\u001b[0m in \u001b[0;36mavg\u001b[0;34m(new_value)\u001b[0m\n\u001b[1;32m      4\u001b[0m \u001b[0;34m\u001b[0m\u001b[0m\n\u001b[1;32m      5\u001b[0m     \u001b[0;32mdef\u001b[0m \u001b[0mavg\u001b[0m\u001b[0;34m(\u001b[0m\u001b[0mnew_value\u001b[0m\u001b[0;34m:\u001b[0m \u001b[0mfloat\u001b[0m\u001b[0;34m)\u001b[0m \u001b[0;34m->\u001b[0m \u001b[0mAverage\u001b[0m\u001b[0;34m:\u001b[0m\u001b[0;34m\u001b[0m\u001b[0;34m\u001b[0m\u001b[0m\n\u001b[0;32m----> 6\u001b[0;31m         \u001b[0m_sum\u001b[0m \u001b[0;34m+=\u001b[0m \u001b[0mnew_value\u001b[0m\u001b[0;34m\u001b[0m\u001b[0;34m\u001b[0m\u001b[0m\n\u001b[0m\u001b[1;32m      7\u001b[0m         \u001b[0m_count\u001b[0m \u001b[0;34m+=\u001b[0m \u001b[0;36m1\u001b[0m\u001b[0;34m\u001b[0m\u001b[0;34m\u001b[0m\u001b[0m\n\u001b[1;32m      8\u001b[0m         \u001b[0;32mreturn\u001b[0m \u001b[0m_sum\u001b[0m \u001b[0;34m/\u001b[0m \u001b[0m_count\u001b[0m\u001b[0;34m\u001b[0m\u001b[0;34m\u001b[0m\u001b[0m\n",
      "\u001b[0;31mUnboundLocalError\u001b[0m: local variable '_sum' referenced before assignment"
     ]
    }
   ],
   "source": [
    "def maker_buggy() -> Callable[[float], Average]:\n",
    "    _sum = 0\n",
    "    _count = 0\n",
    "\n",
    "    def avg(new_value: float) -> Average:\n",
    "        #PROBLEMS: local variable '_sum' referenced before assignment!!!!\n",
    "        _sum += new_value # --> _sum = _sum + new_value SEE IT AS LOCAL!\n",
    "        _count += 1  # --> _count = _count + 1\n",
    "        #Why this didn't happen with a list? so_far = []? Because we used .append()\n",
    "        #Python every time you use += put it as a local variable (+ always returns a new object)!\n",
    "        return _sum / _count\n",
    "\n",
    "    return avg\n",
    "\n",
    "\n",
    "av = maker_buggy()\n",
    "av(9)"
   ]
  },
  {
   "cell_type": "code",
   "execution_count": 5,
   "metadata": {},
   "outputs": [
    {
     "name": "stdout",
     "output_type": "stream",
     "text": [
      "co_varnames ('new_value', '_sum', '_count')\n",
      "co_freevars ()\n"
     ]
    }
   ],
   "source": [
    "inspect_vars(av)"
   ]
  },
  {
   "cell_type": "code",
   "execution_count": 6,
   "metadata": {},
   "outputs": [
    {
     "name": "stdout",
     "output_type": "stream",
     "text": [
      "9.0\n",
      "10.0\n",
      "20.0\n"
     ]
    }
   ],
   "source": [
    "def maker_right() -> Callable[[float], Average]:\n",
    "    _sum = 0\n",
    "    _count = 0\n",
    "\n",
    "    def avg(new_value: float) -> Average:\n",
    "        nonlocal _sum, _count  # <----\n",
    "        _sum += new_value\n",
    "        _count += 1\n",
    "        return _sum / _count\n",
    "\n",
    "    return avg\n",
    "\n",
    "\n",
    "av = maker_right()\n",
    "print(av(9))\n",
    "print(av(11))\n",
    "print(av(40))"
   ]
  },
  {
   "cell_type": "code",
   "execution_count": 7,
   "metadata": {},
   "outputs": [
    {
     "name": "stdout",
     "output_type": "stream",
     "text": [
      "co_varnames ('new_value',)\n",
      "co_freevars ('_count', '_sum')\n"
     ]
    }
   ],
   "source": [
    "inspect_vars(av)"
   ]
  },
  {
   "cell_type": "markdown",
   "metadata": {},
   "source": [
    "### closure\n",
    "A closure is a function that retains the bindings (mantiene il legame) of the free variables that exist when the function is defined, so that they can be used later when the function is invoked and the **defining scope** is no longer available."
   ]
  }
 ],
 "metadata": {
  "kernelspec": {
   "display_name": "Python 3",
   "language": "python",
   "name": "python3"
  },
  "language_info": {
   "codemirror_mode": {
    "name": "ipython",
    "version": 3
   },
   "file_extension": ".py",
   "mimetype": "text/x-python",
   "name": "python",
   "nbconvert_exporter": "python",
   "pygments_lexer": "ipython3",
   "version": "3.8.8"
  }
 },
 "nbformat": 4,
 "nbformat_minor": 4
}
