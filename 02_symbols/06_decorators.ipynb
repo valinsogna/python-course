{
 "cells": [
  {
   "cell_type": "markdown",
   "metadata": {},
   "source": [
    "##  Decorators"
   ]
  },
  {
   "cell_type": "code",
   "execution_count": 1,
   "metadata": {},
   "outputs": [
    {
     "name": "stdout",
     "output_type": "stream",
     "text": [
      "apply decorate1\n",
      "hello, world!\n",
      "apply decorate1\n",
      "bye bye\n"
     ]
    }
   ],
   "source": [
    "def decorate1(func):\n",
    "    def inner():\n",
    "        print(\"apply decorate1\")\n",
    "        r = func() #func is a non local variable\n",
    "        return r\n",
    "\n",
    "    return inner\n",
    "\n",
    "\n",
    "@decorate1\n",
    "def hello():\n",
    "    \"\"\"doc di hello\"\"\"\n",
    "    print(\"hello, world!\")\n",
    "\n",
    "\n",
    "@decorate1\n",
    "def bye():\n",
    "    print(\"bye bye\")\n",
    "\n",
    "\n",
    "hello()\n",
    "bye()"
   ]
  },
  {
   "cell_type": "code",
   "execution_count": 2,
   "metadata": {},
   "outputs": [
    {
     "data": {
      "text/plain": [
       "\u001b[0;31mSignature:\u001b[0m \u001b[0mhello\u001b[0m\u001b[0;34m(\u001b[0m\u001b[0;34m)\u001b[0m\u001b[0;34m\u001b[0m\u001b[0;34m\u001b[0m\u001b[0m\n",
       "\u001b[0;31mDocstring:\u001b[0m <no docstring>\n",
       "\u001b[0;31mSource:\u001b[0m   \n",
       "    \u001b[0;32mdef\u001b[0m \u001b[0minner\u001b[0m\u001b[0;34m(\u001b[0m\u001b[0;34m)\u001b[0m\u001b[0;34m:\u001b[0m\u001b[0;34m\u001b[0m\n",
       "\u001b[0;34m\u001b[0m        \u001b[0mprint\u001b[0m\u001b[0;34m(\u001b[0m\u001b[0;34m\"apply decorate1\"\u001b[0m\u001b[0;34m)\u001b[0m\u001b[0;34m\u001b[0m\n",
       "\u001b[0;34m\u001b[0m        \u001b[0mr\u001b[0m \u001b[0;34m=\u001b[0m \u001b[0mfunc\u001b[0m\u001b[0;34m(\u001b[0m\u001b[0;34m)\u001b[0m \u001b[0;31m#func is a non local variable\u001b[0m\u001b[0;34m\u001b[0m\n",
       "\u001b[0;34m\u001b[0m        \u001b[0;32mreturn\u001b[0m \u001b[0mr\u001b[0m\u001b[0;34m\u001b[0m\u001b[0;34m\u001b[0m\u001b[0m\n",
       "\u001b[0;31mFile:\u001b[0m      ~/Desktop/Corsi/Ad_Progr/advanced_programming_2021/python/02_symbols/<ipython-input-1-0dd4d9f241f5>\n",
       "\u001b[0;31mType:\u001b[0m      function\n"
      ]
     },
     "metadata": {},
     "output_type": "display_data"
    }
   ],
   "source": [
    "hello?? #we loose the source "
   ]
  },
  {
   "cell_type": "code",
   "execution_count": 3,
   "metadata": {},
   "outputs": [
    {
     "name": "stdout",
     "output_type": "stream",
     "text": [
      "decorate 1\n",
      "hello, world!\n",
      "pippo\n"
     ]
    }
   ],
   "source": [
    "def decorate1(func):\n",
    "    def inner():\n",
    "        print(\"decorate 1\")\n",
    "        r = func()\n",
    "        # ...\n",
    "        return r\n",
    "\n",
    "    return inner\n",
    "\n",
    "\n",
    "def hello():\n",
    "    print(\"hello, world!\")\n",
    "    return \"pippo\"\n",
    "\n",
    "\n",
    "hello = decorate1(hello)  # what @decorate1 does\n",
    "\n",
    "a = hello()  # executes inner\n",
    "print(a)"
   ]
  },
  {
   "cell_type": "code",
   "execution_count": 4,
   "metadata": {},
   "outputs": [
    {
     "name": "stdout",
     "output_type": "stream",
     "text": [
      "Help on function inner in module __main__:\n",
      "\n",
      "inner()\n",
      "\n"
     ]
    }
   ],
   "source": [
    "help(hello)"
   ]
  },
  {
   "cell_type": "code",
   "execution_count": 5,
   "metadata": {},
   "outputs": [
    {
     "name": "stdout",
     "output_type": "stream",
     "text": [
      "decorate 1\n",
      "apply decorate2\n",
      "hello, world!\n"
     ]
    }
   ],
   "source": [
    "def decorate2(func):\n",
    "    def inner():\n",
    "        print(\"apply decorate2\")\n",
    "        r = func()\n",
    "        return r\n",
    "\n",
    "    return inner\n",
    "\n",
    "\n",
    "@decorate1\n",
    "@decorate2\n",
    "def hello12():\n",
    "    print(\"hello, world!\")\n",
    "\n",
    "\n",
    "hello12()  # same as hello12 = decorate1(decorate2(hello12))"
   ]
  },
  {
   "cell_type": "code",
   "execution_count": 6,
   "metadata": {},
   "outputs": [
    {
     "name": "stdout",
     "output_type": "stream",
     "text": [
      "apply decorate2\n",
      "decorate 1\n",
      "hello, world!\n"
     ]
    }
   ],
   "source": [
    "@decorate2\n",
    "@decorate1\n",
    "def hello21():\n",
    "    print(\"hello, world!\")\n",
    "\n",
    "\n",
    "hello21()  # same as hello21 = decorate2(decorate1(hello21))"
   ]
  },
  {
   "cell_type": "markdown",
   "metadata": {},
   "source": [
    "### Remember to use `@functools.wraps` in order to have the right source in the ??"
   ]
  },
  {
   "cell_type": "code",
   "execution_count": 7,
   "metadata": {},
   "outputs": [
    {
     "name": "stdout",
     "output_type": "stream",
     "text": [
      "Help on function hello in module __main__:\n",
      "\n",
      "hello()\n",
      "    doc for hello\n",
      "\n"
     ]
    }
   ],
   "source": [
    "import functools\n",
    "\n",
    "\n",
    "def decorate1(func):\n",
    "    @functools.wraps(func)\n",
    "    def inner():\n",
    "        print(\"apply decorate1\")\n",
    "        func()\n",
    "\n",
    "    return inner\n",
    "\n",
    "\n",
    "@decorate1\n",
    "def hello():\n",
    "    \"doc for hello\"\n",
    "    print(\"hello, world!\")\n",
    "\n",
    "\n",
    "help(hello)"
   ]
  },
  {
   "cell_type": "code",
   "execution_count": 8,
   "metadata": {},
   "outputs": [
    {
     "data": {
      "text/plain": [
       "\u001b[0;31mSignature:\u001b[0m \u001b[0mhello\u001b[0m\u001b[0;34m(\u001b[0m\u001b[0;34m)\u001b[0m\u001b[0;34m\u001b[0m\u001b[0;34m\u001b[0m\u001b[0m\n",
       "\u001b[0;31mSource:\u001b[0m   \n",
       "\u001b[0;34m@\u001b[0m\u001b[0mdecorate1\u001b[0m\u001b[0;34m\u001b[0m\n",
       "\u001b[0;34m\u001b[0m\u001b[0;32mdef\u001b[0m \u001b[0mhello\u001b[0m\u001b[0;34m(\u001b[0m\u001b[0;34m)\u001b[0m\u001b[0;34m:\u001b[0m\u001b[0;34m\u001b[0m\n",
       "\u001b[0;34m\u001b[0m    \u001b[0;34m\"doc for hello\"\u001b[0m\u001b[0;34m\u001b[0m\n",
       "\u001b[0;34m\u001b[0m    \u001b[0mprint\u001b[0m\u001b[0;34m(\u001b[0m\u001b[0;34m\"hello, world!\"\u001b[0m\u001b[0;34m)\u001b[0m\u001b[0;34m\u001b[0m\u001b[0;34m\u001b[0m\u001b[0m\n",
       "\u001b[0;31mFile:\u001b[0m      ~/Desktop/Corsi/Ad_Progr/advanced_programming_2021/python/02_symbols/<ipython-input-7-375346aac97e>\n",
       "\u001b[0;31mType:\u001b[0m      function\n"
      ]
     },
     "metadata": {},
     "output_type": "display_data"
    }
   ],
   "source": [
    "hello?? #no more inner"
   ]
  },
  {
   "cell_type": "code",
   "execution_count": 9,
   "metadata": {},
   "outputs": [],
   "source": [
    "hello.__doc__ = \"pippo\" #you can overwrite it"
   ]
  },
  {
   "cell_type": "code",
   "execution_count": 10,
   "metadata": {},
   "outputs": [
    {
     "name": "stdout",
     "output_type": "stream",
     "text": [
      "Help on function hello in module __main__:\n",
      "\n",
      "hello()\n",
      "    pippo\n",
      "\n"
     ]
    }
   ],
   "source": [
    "help(hello)"
   ]
  },
  {
   "cell_type": "markdown",
   "metadata": {},
   "source": [
    "###  How to pass arguments to the inner function"
   ]
  },
  {
   "cell_type": "code",
   "execution_count": 11,
   "metadata": {},
   "outputs": [],
   "source": [
    "# adapted from Fluent Python\n",
    "import functools\n",
    "\n",
    "\n",
    "def args_to_string(*args, **kw):\n",
    "    arg_str = ()\n",
    "    if args:\n",
    "        arg_str += ((\",\".join(str(arg) for arg in args)),)\n",
    "    if kw:\n",
    "        arg_str += ((\", \".join((\"{0}={1}\".format(k, v) for k, v in kw.items()))),)\n",
    "    return \",\".join(a for a in arg_str)"
   ]
  },
  {
   "cell_type": "code",
   "execution_count": 17,
   "metadata": {},
   "outputs": [
    {
     "name": "stdout",
     "output_type": "stream",
     "text": [
      "wait(0.3):[0.30358614 s]\n",
      "factorial(1):[0.00000038 s]\n",
      "factorial(2):[0.00004458 s]\n",
      "factorial(3):[0.00007205 s]\n",
      "factorial(4):[0.00010214 s]\n",
      "factorial(5):[0.00011938 s]\n",
      "factorial(6):[0.00013451 s]\n",
      "factorial(7):[0.00015016 s]\n",
      "factorial(8):[0.00016422 s]\n",
      "factorial(9):[0.00017828 s]\n",
      "factorial(10):[0.00019388 s]\n",
      "sum(4,5):[0.00000093 s]\n",
      "dummy(pos,second,a=a, b=b):[0.00000121 s]\n"
     ]
    }
   ],
   "source": [
    "from time import perf_counter, sleep\n",
    "\n",
    "\n",
    "def time_this(func):\n",
    "    @functools.wraps(func)\n",
    "    def decorated(*args, **kw): #it takes whatever number of keywords and positional arguments\n",
    "        t0 = perf_counter()\n",
    "        result = func(*args, **kw)\n",
    "        t1 = perf_counter()\n",
    "        name = func.__name__\n",
    "        arg_str = args_to_string(*args, **kw)\n",
    "        # print('{}({}): [{:0.8f}]'.format(name, arg_str,t1-t0))\n",
    "        # print('%s(%s): [%0.8f s]' % (name, arg_str, t1-t0))\n",
    "        print(f\"{name}({arg_str}):[{t1-t0:0.8f} s]\")\n",
    "        return result\n",
    "\n",
    "    return decorated\n",
    "\n",
    "\n",
    "@time_this\n",
    "def wait(seconds):\n",
    "    sleep(seconds)\n",
    "\n",
    "\n",
    "@functools.lru_cache(4)  # <-- note () # parametrized decorators: usign the default values otherwise:\n",
    "#If *maxsize* is set to None, the LRU features are disabled and the cache can grow without bound.\n",
    "#stores a dictionary in which the keys are the n and the value is the valuebb\n",
    "@time_this\n",
    "def factorial(n):\n",
    "    return 1 if n < 2 else n * factorial(n - 1)\n",
    "\n",
    "\n",
    "@time_this\n",
    "def sum(a, b):\n",
    "    return a + b\n",
    "\n",
    "\n",
    "@time_this\n",
    "def dummy(*args, **kw):\n",
    "    a = args\n",
    "    b = kw\n",
    "\n",
    "\n",
    "wait(0.3)\n",
    "factorial(10)\n",
    "sum(4, 5)\n",
    "dummy(\"pos\", \"second\", a=\"a\", b=\"b\")"
   ]
  },
  {
   "cell_type": "code",
   "execution_count": 14,
   "metadata": {},
   "outputs": [
    {
     "data": {
      "text/plain": [
       "720"
      ]
     },
     "execution_count": 14,
     "metadata": {},
     "output_type": "execute_result"
    }
   ],
   "source": [
    "factorial(6) #already computed: just returns the value of the factorial"
   ]
  },
  {
   "cell_type": "code",
   "execution_count": 15,
   "metadata": {},
   "outputs": [
    {
     "name": "stdout",
     "output_type": "stream",
     "text": [
      "factorial(11):[0.00000174 s]\n",
      "factorial(12):[0.00007635 s]\n"
     ]
    },
    {
     "data": {
      "text/plain": [
       "479001600"
      ]
     },
     "execution_count": 15,
     "metadata": {},
     "output_type": "execute_result"
    }
   ],
   "source": [
    "factorial(12)# not computed yet!"
   ]
  },
  {
   "cell_type": "code",
   "execution_count": 19,
   "metadata": {},
   "outputs": [
    {
     "data": {
      "text/plain": [
       "\u001b[0;31mSignature:\u001b[0m \u001b[0mfunctools\u001b[0m\u001b[0;34m.\u001b[0m\u001b[0mlru_cache\u001b[0m\u001b[0;34m(\u001b[0m\u001b[0mmaxsize\u001b[0m\u001b[0;34m=\u001b[0m\u001b[0;36m128\u001b[0m\u001b[0;34m,\u001b[0m \u001b[0mtyped\u001b[0m\u001b[0;34m=\u001b[0m\u001b[0;32mFalse\u001b[0m\u001b[0;34m)\u001b[0m\u001b[0;34m\u001b[0m\u001b[0;34m\u001b[0m\u001b[0m\n",
       "\u001b[0;31mDocstring:\u001b[0m\n",
       "Least-recently-used cache decorator.\n",
       "\n",
       "If *maxsize* is set to None, the LRU features are disabled and the cache\n",
       "can grow without bound.\n",
       "\n",
       "If *typed* is True, arguments of different types will be cached separately.\n",
       "For example, f(3.0) and f(3) will be treated as distinct calls with\n",
       "distinct results.\n",
       "\n",
       "Arguments to the cached function must be hashable.\n",
       "\n",
       "View the cache statistics named tuple (hits, misses, maxsize, currsize)\n",
       "with f.cache_info().  Clear the cache and statistics with f.cache_clear().\n",
       "Access the underlying function with f.__wrapped__.\n",
       "\n",
       "See:  http://en.wikipedia.org/wiki/Cache_replacement_policies#Least_recently_used_(LRU)\n",
       "\u001b[0;31mFile:\u001b[0m      ~/opt/anaconda3/lib/python3.8/functools.py\n",
       "\u001b[0;31mType:\u001b[0m      function\n"
      ]
     },
     "metadata": {},
     "output_type": "display_data"
    }
   ],
   "source": [
    "functools.lru_cache?"
   ]
  },
  {
   "cell_type": "code",
   "execution_count": 16,
   "metadata": {},
   "outputs": [
    {
     "data": {
      "text/plain": [
       "['__annotations__',\n",
       " '__call__',\n",
       " '__class__',\n",
       " '__copy__',\n",
       " '__deepcopy__',\n",
       " '__delattr__',\n",
       " '__dict__',\n",
       " '__dir__',\n",
       " '__doc__',\n",
       " '__eq__',\n",
       " '__format__',\n",
       " '__ge__',\n",
       " '__get__',\n",
       " '__getattribute__',\n",
       " '__gt__',\n",
       " '__hash__',\n",
       " '__init__',\n",
       " '__init_subclass__',\n",
       " '__le__',\n",
       " '__lt__',\n",
       " '__module__',\n",
       " '__name__',\n",
       " '__ne__',\n",
       " '__new__',\n",
       " '__qualname__',\n",
       " '__reduce__',\n",
       " '__reduce_ex__',\n",
       " '__repr__',\n",
       " '__setattr__',\n",
       " '__sizeof__',\n",
       " '__str__',\n",
       " '__subclasshook__',\n",
       " '__wrapped__',\n",
       " 'cache_clear',\n",
       " 'cache_info']"
      ]
     },
     "execution_count": 16,
     "metadata": {},
     "output_type": "execute_result"
    }
   ],
   "source": [
    "dir(factorial)"
   ]
  },
  {
   "cell_type": "code",
   "execution_count": 18,
   "metadata": {},
   "outputs": [
    {
     "name": "stdout",
     "output_type": "stream",
     "text": [
      "going to sleep for 0.4 seconds\n",
      "woke up!\n",
      "wait(0.4):[0.40243869 s]\n"
     ]
    }
   ],
   "source": [
    "def parametrized_time_this(check=True):\n",
    "    def decorator(func):\n",
    "        if not check:\n",
    "            return func\n",
    "\n",
    "        @functools.wraps(func)\n",
    "        def decorated(*args, **kw):\n",
    "            t0 = perf_counter()\n",
    "            result = func(*args, **kw)\n",
    "            t1 = perf_counter()\n",
    "            name = func.__name__\n",
    "            arg_str = args_to_string(*args, **kw)\n",
    "            print(f\"{name}({arg_str}):[{t1-t0:0.8f} s]\")\n",
    "            return result\n",
    "\n",
    "        return decorated\n",
    "\n",
    "    return decorator  # <-- returns the actual decorator\n",
    "\n",
    "\n",
    "debug = True\n",
    "\n",
    "\n",
    "@parametrized_time_this(debug)\n",
    "def wait(seconds):\n",
    "    print(\"going to sleep for\", seconds, \"seconds\")\n",
    "    sleep(seconds)\n",
    "    print(\"woke up!\")\n",
    "\n",
    "\n",
    "wait(0.4)"
   ]
  },
  {
   "cell_type": "markdown",
   "metadata": {},
   "source": [
    "### Decorators as function objects"
   ]
  },
  {
   "cell_type": "code",
   "execution_count": 20,
   "metadata": {},
   "outputs": [
    {
     "name": "stdout",
     "output_type": "stream",
     "text": [
      "going to sleep for 0.4 seconds\n",
      "woke up!\n",
      "wait(0.4):[0.40074306 s]\n"
     ]
    }
   ],
   "source": [
    "class TimeThis: #implement decorator as a class\n",
    "    def __init__(self, func):  # <--\n",
    "        self._func = func  # <--\n",
    "        functools.update_wrapper(self, func)  # <--\n",
    "\n",
    "    def __call__(self, *args, **kw):\n",
    "        t0 = perf_counter()\n",
    "        result = self._func(*args, **kw)  # <--\n",
    "        t1 = perf_counter()\n",
    "        name = self._func.__name__  # <--\n",
    "        arg_str = args_to_string(*args, **kw)\n",
    "        print(f\"{name}({arg_str}):[{t1-t0:0.8f} s]\")\n",
    "\n",
    "        return result\n",
    "\n",
    "\n",
    "@TimeThis\n",
    "def wait(seconds):\n",
    "    \"doc\"\n",
    "    print(\"going to sleep for\", seconds, \"seconds\")\n",
    "    sleep(seconds)\n",
    "    print(\"woke up!\")\n",
    "\n",
    "#wait = TimeThis(wait) : it's the equivalent! It's an object of the class TimeThis\n",
    "wait(0.4)"
   ]
  },
  {
   "cell_type": "code",
   "execution_count": 21,
   "metadata": {},
   "outputs": [
    {
     "data": {
      "text/plain": [
       "\u001b[0;31mSignature:\u001b[0m      \u001b[0mwait\u001b[0m\u001b[0;34m(\u001b[0m\u001b[0mseconds\u001b[0m\u001b[0;34m)\u001b[0m\u001b[0;34m\u001b[0m\u001b[0;34m\u001b[0m\u001b[0m\n",
       "\u001b[0;31mCall signature:\u001b[0m \u001b[0mwait\u001b[0m\u001b[0;34m(\u001b[0m\u001b[0;34m*\u001b[0m\u001b[0margs\u001b[0m\u001b[0;34m,\u001b[0m \u001b[0;34m**\u001b[0m\u001b[0mkw\u001b[0m\u001b[0;34m)\u001b[0m\u001b[0;34m\u001b[0m\u001b[0;34m\u001b[0m\u001b[0m\n",
       "\u001b[0;31mType:\u001b[0m           TimeThis\n",
       "\u001b[0;31mString form:\u001b[0m    <__main__.TimeThis object at 0x7f816d3ad760>\n",
       "\u001b[0;31mFile:\u001b[0m           ~/Desktop/Corsi/Ad_Progr/advanced_programming_2021/python/02_symbols/<ipython-input-20-00c190c75f36>\n",
       "\u001b[0;31mSource:\u001b[0m        \n",
       "\u001b[0;34m@\u001b[0m\u001b[0mTimeThis\u001b[0m\u001b[0;34m\u001b[0m\n",
       "\u001b[0;34m\u001b[0m\u001b[0;32mdef\u001b[0m \u001b[0mwait\u001b[0m\u001b[0;34m(\u001b[0m\u001b[0mseconds\u001b[0m\u001b[0;34m)\u001b[0m\u001b[0;34m:\u001b[0m\u001b[0;34m\u001b[0m\n",
       "\u001b[0;34m\u001b[0m    \u001b[0;34m\"doc\"\u001b[0m\u001b[0;34m\u001b[0m\n",
       "\u001b[0;34m\u001b[0m    \u001b[0mprint\u001b[0m\u001b[0;34m(\u001b[0m\u001b[0;34m\"going to sleep for\"\u001b[0m\u001b[0;34m,\u001b[0m \u001b[0mseconds\u001b[0m\u001b[0;34m,\u001b[0m \u001b[0;34m\"seconds\"\u001b[0m\u001b[0;34m)\u001b[0m\u001b[0;34m\u001b[0m\n",
       "\u001b[0;34m\u001b[0m    \u001b[0msleep\u001b[0m\u001b[0;34m(\u001b[0m\u001b[0mseconds\u001b[0m\u001b[0;34m)\u001b[0m\u001b[0;34m\u001b[0m\n",
       "\u001b[0;34m\u001b[0m    \u001b[0mprint\u001b[0m\u001b[0;34m(\u001b[0m\u001b[0;34m\"woke up!\"\u001b[0m\u001b[0;34m)\u001b[0m\u001b[0;34m\u001b[0m\u001b[0;34m\u001b[0m\u001b[0m\n"
      ]
     },
     "metadata": {},
     "output_type": "display_data"
    }
   ],
   "source": [
    "wait??"
   ]
  },
  {
   "cell_type": "code",
   "execution_count": 22,
   "metadata": {},
   "outputs": [
    {
     "name": "stdout",
     "output_type": "stream",
     "text": [
      "going to sleep for 0.4 seconds\n",
      "woke up!\n",
      "wrapper(0.4):[0.40557925 s]\n"
     ]
    }
   ],
   "source": [
    "class ParametrizedTimeThis:\n",
    "    def __init__(self, check=True):\n",
    "        self.check = check\n",
    "\n",
    "    def __call__(self, func): #the call operators returns the inner func\n",
    "        if self.check:\n",
    "            # return TimeThis(func)\n",
    "\n",
    "            @functools.wraps(func)\n",
    "            @TimeThis\n",
    "            def wrapper(*args, **kwargs):\n",
    "                return func(*args, **kwargs)\n",
    "\n",
    "            return wrapper\n",
    "        return func\n",
    "\n",
    "\n",
    "@ParametrizedTimeThis(True)\n",
    "def wait(seconds):\n",
    "    print(\"going to sleep for\", seconds, \"seconds\")\n",
    "    sleep(seconds)\n",
    "    print(\"woke up!\")\n",
    "\n",
    "\n",
    "wait(0.4)"
   ]
  },
  {
   "cell_type": "code",
   "execution_count": 23,
   "metadata": {},
   "outputs": [
    {
     "data": {
      "text/plain": [
       "\u001b[0;31mSignature:\u001b[0m      \u001b[0mwait\u001b[0m\u001b[0;34m(\u001b[0m\u001b[0mseconds\u001b[0m\u001b[0;34m)\u001b[0m\u001b[0;34m\u001b[0m\u001b[0;34m\u001b[0m\u001b[0m\n",
       "\u001b[0;31mCall signature:\u001b[0m \u001b[0mwait\u001b[0m\u001b[0;34m(\u001b[0m\u001b[0;34m*\u001b[0m\u001b[0margs\u001b[0m\u001b[0;34m,\u001b[0m \u001b[0;34m**\u001b[0m\u001b[0mkw\u001b[0m\u001b[0;34m)\u001b[0m\u001b[0;34m\u001b[0m\u001b[0;34m\u001b[0m\u001b[0m\n",
       "\u001b[0;31mType:\u001b[0m           TimeThis\n",
       "\u001b[0;31mString form:\u001b[0m    <__main__.TimeThis object at 0x7f816d39e550>\n",
       "\u001b[0;31mFile:\u001b[0m           ~/Desktop/Corsi/Ad_Progr/advanced_programming_2021/python/02_symbols/<ipython-input-22-eb4a5286fb36>\n",
       "\u001b[0;31mSource:\u001b[0m        \n",
       "\u001b[0;34m@\u001b[0m\u001b[0mParametrizedTimeThis\u001b[0m\u001b[0;34m(\u001b[0m\u001b[0;32mTrue\u001b[0m\u001b[0;34m)\u001b[0m\u001b[0;34m\u001b[0m\n",
       "\u001b[0;34m\u001b[0m\u001b[0;32mdef\u001b[0m \u001b[0mwait\u001b[0m\u001b[0;34m(\u001b[0m\u001b[0mseconds\u001b[0m\u001b[0;34m)\u001b[0m\u001b[0;34m:\u001b[0m\u001b[0;34m\u001b[0m\n",
       "\u001b[0;34m\u001b[0m    \u001b[0mprint\u001b[0m\u001b[0;34m(\u001b[0m\u001b[0;34m\"going to sleep for\"\u001b[0m\u001b[0;34m,\u001b[0m \u001b[0mseconds\u001b[0m\u001b[0;34m,\u001b[0m \u001b[0;34m\"seconds\"\u001b[0m\u001b[0;34m)\u001b[0m\u001b[0;34m\u001b[0m\n",
       "\u001b[0;34m\u001b[0m    \u001b[0msleep\u001b[0m\u001b[0;34m(\u001b[0m\u001b[0mseconds\u001b[0m\u001b[0;34m)\u001b[0m\u001b[0;34m\u001b[0m\n",
       "\u001b[0;34m\u001b[0m    \u001b[0mprint\u001b[0m\u001b[0;34m(\u001b[0m\u001b[0;34m\"woke up!\"\u001b[0m\u001b[0;34m)\u001b[0m\u001b[0;34m\u001b[0m\u001b[0;34m\u001b[0m\u001b[0m\n"
      ]
     },
     "metadata": {},
     "output_type": "display_data"
    }
   ],
   "source": [
    "wait??"
   ]
  },
  {
   "cell_type": "code",
   "execution_count": 24,
   "metadata": {},
   "outputs": [
    {
     "name": "stdout",
     "output_type": "stream",
     "text": [
      "wrapper(0.4):[0.00000118 s]\n"
     ]
    }
   ],
   "source": [
    "PTT = ParametrizedTimeThis(True) #an alias: a sticky notes as p = Point\n",
    "\n",
    "\n",
    "@PTT\n",
    "def dummy(*args, **kw):\n",
    "    pass\n",
    "\n",
    "\n",
    "dummy(0.4)"
   ]
  },
  {
   "cell_type": "code",
   "execution_count": 25,
   "metadata": {},
   "outputs": [
    {
     "data": {
      "text/plain": [
       "\u001b[0;31mSignature:\u001b[0m   \u001b[0mdummy\u001b[0m\u001b[0;34m(\u001b[0m\u001b[0;34m*\u001b[0m\u001b[0margs\u001b[0m\u001b[0;34m,\u001b[0m \u001b[0;34m**\u001b[0m\u001b[0mkw\u001b[0m\u001b[0;34m)\u001b[0m\u001b[0;34m\u001b[0m\u001b[0;34m\u001b[0m\u001b[0m\n",
       "\u001b[0;31mType:\u001b[0m        TimeThis\n",
       "\u001b[0;31mString form:\u001b[0m <__main__.TimeThis object at 0x7f816d3ada00>\n",
       "\u001b[0;31mFile:\u001b[0m        ~/Desktop/Corsi/Ad_Progr/advanced_programming_2021/python/02_symbols/<ipython-input-24-031b87aad118>\n",
       "\u001b[0;31mSource:\u001b[0m     \n",
       "\u001b[0;34m@\u001b[0m\u001b[0mPTT\u001b[0m\u001b[0;34m\u001b[0m\n",
       "\u001b[0;34m\u001b[0m\u001b[0;32mdef\u001b[0m \u001b[0mdummy\u001b[0m\u001b[0;34m(\u001b[0m\u001b[0;34m*\u001b[0m\u001b[0margs\u001b[0m\u001b[0;34m,\u001b[0m \u001b[0;34m**\u001b[0m\u001b[0mkw\u001b[0m\u001b[0;34m)\u001b[0m\u001b[0;34m:\u001b[0m\u001b[0;34m\u001b[0m\n",
       "\u001b[0;34m\u001b[0m    \u001b[0;32mpass\u001b[0m\u001b[0;34m\u001b[0m\u001b[0;34m\u001b[0m\u001b[0m\n"
      ]
     },
     "metadata": {},
     "output_type": "display_data"
    }
   ],
   "source": [
    "dummy??"
   ]
  }
 ],
 "metadata": {
  "kernelspec": {
   "display_name": "Python 3",
   "language": "python",
   "name": "python3"
  },
  "language_info": {
   "codemirror_mode": {
    "name": "ipython",
    "version": 3
   },
   "file_extension": ".py",
   "mimetype": "text/x-python",
   "name": "python",
   "nbconvert_exporter": "python",
   "pygments_lexer": "ipython3",
   "version": "3.8.8"
  }
 },
 "nbformat": 4,
 "nbformat_minor": 4
}
