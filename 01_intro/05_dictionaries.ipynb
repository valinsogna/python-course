{
 "cells": [
  {
   "cell_type": "markdown",
   "metadata": {},
   "source": [
    "## Dictionaries (hash tables) aka `dict`s\n",
    " - **unordered** set of pairs `key:value`\n",
    " - elements are accessed by `key` and not by offset (like lists and tuples)\n",
    " - `key` must be **hashable** (aka immutable) (e.g., boolean, integer, float, tuple, string, **not list**)\n",
    " - are mutable, so you can add, delete and change their `key:value` elements\n",
    " - highly optimized"
   ]
  },
  {
   "cell_type": "code",
   "execution_count": 1,
   "metadata": {},
   "outputs": [
    {
     "name": "stdout",
     "output_type": "stream",
     "text": [
      "<class 'dict'>\n"
     ]
    }
   ],
   "source": [
    "empty_dict = {}  # or empty_dict = dict()\n",
    "print(type(empty_dict))"
   ]
  },
  {
   "cell_type": "code",
   "execution_count": 2,
   "metadata": {},
   "outputs": [
    {
     "name": "stdout",
     "output_type": "stream",
     "text": [
      "{'Alberto': 32, 'Antonella': 21, 'Stefano': 42, 'Family': [4, 5, 32, 37]}\n"
     ]
    }
   ],
   "source": [
    "age_dict = {\"Alberto\": 32, \"Antonella\": 21, \"Stefano\": 42, \"Family\": [4, 5, 32, 37]}\n",
    "print(age_dict)"
   ]
  },
  {
   "cell_type": "markdown",
   "metadata": {},
   "source": [
    "### can be constructed in many ways\n",
    "- from list of tuples\n",
    "- from tuples of 2-element lists\n",
    "- dictionaries comprehensions"
   ]
  },
  {
   "cell_type": "code",
   "execution_count": 22,
   "metadata": {},
   "outputs": [
    {
     "name": "stdout",
     "output_type": "stream",
     "text": [
      "{'Alberto': 32, 'Antonella': 21, 'Stefano': 42, 'Family': [4, 5, 32, 37]}\n"
     ]
    }
   ],
   "source": [
    "lot = [(\"Alberto\", 32), (\"Antonella\", 21), (\"Stefano\", 42), (\"Family\", [4, 5, 32, 37])]\n",
    "age_dict = dict(lot)\n",
    "print(age_dict)"
   ]
  },
  {
   "cell_type": "code",
   "execution_count": 20,
   "metadata": {},
   "outputs": [
    {
     "name": "stdout",
     "output_type": "stream",
     "text": [
      "{'Alberto': 32, 'Antonella': 21, 'Stefano': 42, 'Family': [4, 5, 32, 37]}\n"
     ]
    }
   ],
   "source": [
    "tof = ([\"Alberto\", 32], [\"Antonella\", 21], [\"Stefano\", 42], [\"Family\", [4, 5, 32, 37]])\n",
    "age_dict = dict(tof)\n",
    "print(age_dict)"
   ]
  },
  {
   "cell_type": "code",
   "execution_count": 5,
   "metadata": {},
   "outputs": [
    {
     "data": {
      "text/plain": [
       "{'Alberto': 32, 'Antonella': 21, 'Stefano': 42, 'Family': [4, 5, 32, 37]}"
      ]
     },
     "execution_count": 5,
     "metadata": {},
     "output_type": "execute_result"
    }
   ],
   "source": [
    "d = dict(Alberto=32, Antonella=21, Stefano=42, Family=[4, 5, 32, 37])\n",
    "d"
   ]
  },
  {
   "cell_type": "code",
   "execution_count": 6,
   "metadata": {},
   "outputs": [
    {
     "name": "stdout",
     "output_type": "stream",
     "text": [
      "{'Alberto': 32, 'Antonella': 21, 'Stefano': 42, 'Family': [4, 5, 32, 37]}\n"
     ]
    }
   ],
   "source": [
    "names = [\"Alberto\", \"Antonella\", \"Stefano\", \"Family\"]\n",
    "ages = [32, 21, 42, [4, 5, 32, 37]]\n",
    "age_dict = {k: v for k, v in zip(names, ages)} #k(names) is the key and v(ages) is the value\n",
    "print(age_dict)"
   ]
  },
  {
   "cell_type": "code",
   "execution_count": 7,
   "metadata": {},
   "outputs": [
    {
     "data": {
      "text/plain": [
       "{'Alberto': 32, 'Antonella': 21, 'Stefano': 42, 'Family': [4, 5, 32, 37]}"
      ]
     },
     "execution_count": 7,
     "metadata": {},
     "output_type": "execute_result"
    }
   ],
   "source": [
    "k = {}\n",
    "#zip returns a couple with 1st elem from 1st container, 2nd from 2nd container\n",
    "for name, age in zip(names, ages): #tuple unpacking + zip \n",
    "    k[name] = age\n",
    "\n",
    "k"
   ]
  },
  {
   "cell_type": "markdown",
   "metadata": {},
   "source": [
    "### Retrieve an element by `key`\n"
   ]
  },
  {
   "cell_type": "code",
   "execution_count": 8,
   "metadata": {},
   "outputs": [
    {
     "name": "stdout",
     "output_type": "stream",
     "text": [
      "age of Alberto 32\n",
      "age of Alberto 33\n"
     ]
    }
   ],
   "source": [
    "print(\"age of Alberto\", age_dict[\"Alberto\"])\n",
    "age_dict[\"Alberto\"] += 1\n",
    "print(\"age of Alberto\", age_dict[\"Alberto\"])"
   ]
  },
  {
   "cell_type": "code",
   "execution_count": 10,
   "metadata": {},
   "outputs": [
    {
     "ename": "KeyError",
     "evalue": "'not in dict'",
     "output_type": "error",
     "traceback": [
      "\u001b[0;31m---------------------------------------------------------------------------\u001b[0m",
      "\u001b[0;31mKeyError\u001b[0m                                  Traceback (most recent call last)",
      "\u001b[0;32m<ipython-input-10-2da674f9aa03>\u001b[0m in \u001b[0;36m<module>\u001b[0;34m\u001b[0m\n\u001b[0;32m----> 1\u001b[0;31m \u001b[0mprint\u001b[0m\u001b[0;34m(\u001b[0m\u001b[0mage_dict\u001b[0m\u001b[0;34m[\u001b[0m\u001b[0;34m\"not in dict\"\u001b[0m\u001b[0;34m]\u001b[0m\u001b[0;34m)\u001b[0m \u001b[0;31m# error\u001b[0m\u001b[0;34m\u001b[0m\u001b[0;34m\u001b[0m\u001b[0m\n\u001b[0m",
      "\u001b[0;31mKeyError\u001b[0m: 'not in dict'"
     ]
    }
   ],
   "source": [
    "print(age_dict[\"not in dict\"]) # error"
   ]
  },
  {
   "cell_type": "markdown",
   "metadata": {},
   "source": [
    "### better use `get` if a key can be not present"
   ]
  },
  {
   "cell_type": "code",
   "execution_count": 11,
   "metadata": {},
   "outputs": [
    {
     "name": "stdout",
     "output_type": "stream",
     "text": [
      "-1\n"
     ]
    }
   ],
   "source": [
    "print(age_dict.get(\"not in dict\", -1))"
   ]
  },
  {
   "cell_type": "markdown",
   "metadata": {},
   "source": [
    "### can add new keys with the `[ ]` operator"
   ]
  },
  {
   "cell_type": "code",
   "execution_count": 12,
   "metadata": {},
   "outputs": [],
   "source": [
    "age_dict[\"New key\"] = 55"
   ]
  },
  {
   "cell_type": "markdown",
   "metadata": {},
   "source": [
    "### check if a key is (is not in dict)\n"
   ]
  },
  {
   "cell_type": "code",
   "execution_count": 13,
   "metadata": {},
   "outputs": [
    {
     "name": "stdout",
     "output_type": "stream",
     "text": [
      "True\n",
      "False\n",
      "True\n"
     ]
    }
   ],
   "source": [
    "print(\"Alberto\" in age_dict)\n",
    "print(\"Unknown\" in age_dict)\n",
    "print(\"Unknown\" not in age_dict)"
   ]
  },
  {
   "cell_type": "markdown",
   "metadata": {},
   "source": [
    "### quick look at the methods"
   ]
  },
  {
   "cell_type": "code",
   "execution_count": 14,
   "metadata": {},
   "outputs": [
    {
     "name": "stdout",
     "output_type": "stream",
     "text": [
      "['__class__', '__contains__', '__delattr__', '__delitem__', '__dir__', '__doc__', '__eq__', '__format__', '__ge__', '__getattribute__', '__getitem__', '__gt__', '__hash__', '__init__', '__init_subclass__', '__iter__', '__le__', '__len__', '__lt__', '__ne__', '__new__', '__reduce__', '__reduce_ex__', '__repr__', '__reversed__', '__setattr__', '__setitem__', '__sizeof__', '__str__', '__subclasshook__', 'clear', 'copy', 'fromkeys', 'get', 'items', 'keys', 'pop', 'popitem', 'setdefault', 'update', 'values']\n"
     ]
    }
   ],
   "source": [
    "print(dir(age_dict))"
   ]
  },
  {
   "cell_type": "code",
   "execution_count": 17,
   "metadata": {},
   "outputs": [
    {
     "data": {
      "text/plain": [
       "\u001b[0;31mSignature:\u001b[0m \u001b[0mdict\u001b[0m\u001b[0;34m.\u001b[0m\u001b[0msetdefault\u001b[0m\u001b[0;34m(\u001b[0m\u001b[0mself\u001b[0m\u001b[0;34m,\u001b[0m \u001b[0mkey\u001b[0m\u001b[0;34m,\u001b[0m \u001b[0mdefault\u001b[0m\u001b[0;34m=\u001b[0m\u001b[0;32mNone\u001b[0m\u001b[0;34m,\u001b[0m \u001b[0;34m/\u001b[0m\u001b[0;34m)\u001b[0m\u001b[0;34m\u001b[0m\u001b[0;34m\u001b[0m\u001b[0m\n",
       "\u001b[0;31mDocstring:\u001b[0m\n",
       "Insert key with a value of default if key is not in the dictionary.\n",
       "\n",
       "Return the value for key if key is in the dictionary, else default.\n",
       "\u001b[0;31mType:\u001b[0m      method_descriptor\n"
      ]
     },
     "metadata": {},
     "output_type": "display_data"
    }
   ],
   "source": [
    "dict.setdefault?"
   ]
  },
  {
   "cell_type": "markdown",
   "metadata": {},
   "source": [
    "### Iterability"
   ]
  },
  {
   "cell_type": "code",
   "execution_count": 18,
   "metadata": {},
   "outputs": [
    {
     "name": "stdout",
     "output_type": "stream",
     "text": [
      "Alberto 33\n",
      "Antonella 21\n",
      "Stefano 42\n",
      "Family [4, 5, 32, 37]\n",
      "New key 55\n"
     ]
    }
   ],
   "source": [
    "for k in age_dict: #slower operator\n",
    "    print(k, age_dict[k])"
   ]
  },
  {
   "cell_type": "markdown",
   "metadata": {},
   "source": [
    "#### loop over keys and/or values\n"
   ]
  },
  {
   "cell_type": "code",
   "execution_count": 23,
   "metadata": {},
   "outputs": [
    {
     "name": "stdout",
     "output_type": "stream",
     "text": [
      "Alberto\n",
      "Antonella\n",
      "Stefano\n",
      "Family\n",
      "32\n",
      "21\n",
      "42\n",
      "[4, 5, 32, 37]\n",
      "('Alberto', 32)\n",
      "('Antonella', 21)\n",
      "('Stefano', 42)\n",
      "('Family', [4, 5, 32, 37])\n",
      "Alberto 32\n",
      "Antonella 21\n",
      "Stefano 42\n",
      "Family [4, 5, 32, 37]\n"
     ]
    }
   ],
   "source": [
    "for k in age_dict.keys():\n",
    "    print(k)\n",
    "\n",
    "for v in age_dict.values():\n",
    "    print(v)\n",
    "\n",
    "for it in age_dict.items():# returns tuple of (key,value): no matter how the dict is formed!\n",
    "    print(it)\n",
    "\n",
    "for k, v in age_dict.items():# unpackage tuples\n",
    "    print(k, v)"
   ]
  },
  {
   "cell_type": "markdown",
   "metadata": {},
   "source": [
    "### delete with `del` statement"
   ]
  },
  {
   "cell_type": "code",
   "execution_count": 24,
   "metadata": {},
   "outputs": [
    {
     "name": "stdout",
     "output_type": "stream",
     "text": [
      "{'Antonella': 21, 'Stefano': 42, 'Family': [4, 5, 32, 37]}\n"
     ]
    }
   ],
   "source": [
    "del age_dict[\"Alberto\"]\n",
    "print(age_dict)"
   ]
  },
  {
   "cell_type": "markdown",
   "metadata": {},
   "source": [
    "### `OrderedDict`s preserve order of insertion allowing iteration in a predictable order"
   ]
  },
  {
   "cell_type": "code",
   "execution_count": 34,
   "metadata": {},
   "outputs": [
    {
     "name": "stdout",
     "output_type": "stream",
     "text": [
      "{'a': 10,\n",
      " 'b': 50,\n",
      " 'c': 1}\n"
     ]
    }
   ],
   "source": [
    "from pprint import pprint\n",
    "d ={'a':10, 'c':1, 'b':50}\n",
    "pprint(d, width=10)"
   ]
  },
  {
   "cell_type": "code",
   "execution_count": 35,
   "metadata": {},
   "outputs": [
    {
     "name": "stdout",
     "output_type": "stream",
     "text": [
      "a\n",
      "b\n",
      "c\n"
     ]
    }
   ],
   "source": [
    "# loop through a dict in an order way according to keys order (alphabetcally):\n",
    "#for x in d.keys().sort() or better:\n",
    "for x in sorted(d.keys()):\n",
    "    print(x)"
   ]
  },
  {
   "cell_type": "code",
   "execution_count": 36,
   "metadata": {},
   "outputs": [
    {
     "name": "stdout",
     "output_type": "stream",
     "text": [
      "c\n",
      "b\n",
      "a\n"
     ]
    }
   ],
   "source": [
    "for x in sorted(d.keys(), reverse=True):\n",
    "    print(x)"
   ]
  },
  {
   "cell_type": "code",
   "execution_count": 38,
   "metadata": {},
   "outputs": [
    {
     "name": "stdout",
     "output_type": "stream",
     "text": [
      "a 10\n",
      "b 50\n",
      "c 1\n"
     ]
    }
   ],
   "source": [
    "for k,v in sorted(d.items()):#is sorting tuples: by key again!!!\n",
    "    print(k,v)"
   ]
  },
  {
   "cell_type": "code",
   "execution_count": null,
   "metadata": {},
   "outputs": [],
   "source": [
    "#sorted according to values:\n",
    "for k,v in sorted(d.items()):#is sorting tuples!!!\n",
    "    print(k,v)"
   ]
  },
  {
   "cell_type": "code",
   "execution_count": 25,
   "metadata": {},
   "outputs": [
    {
     "name": "stdout",
     "output_type": "stream",
     "text": [
      "OrderedDict([('Alberto', 32), ('Antonella', 21), ('Stefano', 42), ('Family', [4, 5, 32, 37])])\n"
     ]
    }
   ],
   "source": [
    "from collections import OrderedDict #normally the dict is NOT ORDERED! see ex above\n",
    "\n",
    "ordered_dict = OrderedDict(zip(names, ages))\n",
    "print(ordered_dict)"
   ]
  },
  {
   "cell_type": "markdown",
   "metadata": {},
   "source": [
    "### `defaultdict` useful for dealing with one-to-many mapping"
   ]
  },
  {
   "cell_type": "code",
   "execution_count": 3,
   "metadata": {},
   "outputs": [],
   "source": [
    "from collections import defaultdict"
   ]
  },
  {
   "cell_type": "code",
   "execution_count": 5,
   "metadata": {},
   "outputs": [
    {
     "data": {
      "text/plain": [
       "\u001b[0;31mInit signature:\u001b[0m \u001b[0mdefaultdict\u001b[0m\u001b[0;34m(\u001b[0m\u001b[0mself\u001b[0m\u001b[0;34m,\u001b[0m \u001b[0;34m/\u001b[0m\u001b[0;34m,\u001b[0m \u001b[0;34m*\u001b[0m\u001b[0margs\u001b[0m\u001b[0;34m,\u001b[0m \u001b[0;34m**\u001b[0m\u001b[0mkwargs\u001b[0m\u001b[0;34m)\u001b[0m\u001b[0;34m\u001b[0m\u001b[0;34m\u001b[0m\u001b[0m\n",
       "\u001b[0;31mDocstring:\u001b[0m     \n",
       "defaultdict(default_factory[, ...]) --> dict with default factory\n",
       "\n",
       "The default factory is called without arguments to produce\n",
       "a new value when a key is not present, in __getitem__ only.\n",
       "A defaultdict compares equal to a dict with the same items.\n",
       "All remaining arguments are treated the same as if they were\n",
       "passed to the dict constructor, including keyword arguments.\n",
       "\u001b[0;31mFile:\u001b[0m           ~/opt/anaconda3/lib/python3.8/collections/__init__.py\n",
       "\u001b[0;31mType:\u001b[0m           type\n",
       "\u001b[0;31mSubclasses:\u001b[0m     Quoter\n"
      ]
     },
     "metadata": {},
     "output_type": "display_data"
    }
   ],
   "source": [
    "defaultdict?"
   ]
  },
  {
   "cell_type": "code",
   "execution_count": 43,
   "metadata": {},
   "outputs": [
    {
     "data": {
      "text/plain": [
       "defaultdict(list, {'alberto': ['paper-A'], 'luca': ['paper-A', 'paper-B']})"
      ]
     },
     "execution_count": 43,
     "metadata": {},
     "output_type": "execute_result"
    }
   ],
   "source": [
    "data = {\"paper-A\": [\"alberto\", \"luca\"], \"paper-B\": [\"luca\"]}\n",
    "#I want to construct a reverse dict where the keys are the authors and the values, the papers:\n",
    "d = defaultdict(list)\n",
    "for k, v in data.items():\n",
    "    for a in v:#for all the authors in the values\n",
    "        d[a].append(k) #using list\n",
    "d"
   ]
  },
  {
   "cell_type": "code",
   "execution_count": 44,
   "metadata": {},
   "outputs": [
    {
     "data": {
      "text/plain": [
       "{'alberto': ['paper-A'], 'luca': ['paper-A', 'paper-B']}"
      ]
     },
     "execution_count": 44,
     "metadata": {},
     "output_type": "execute_result"
    }
   ],
   "source": [
    "d = dict(d)#convert it to a normal dict\n",
    "d"
   ]
  }
 ],
 "metadata": {
  "kernelspec": {
   "display_name": "Python 3",
   "language": "python",
   "name": "python3"
  },
  "language_info": {
   "codemirror_mode": {
    "name": "ipython",
    "version": 3
   },
   "file_extension": ".py",
   "mimetype": "text/x-python",
   "name": "python",
   "nbconvert_exporter": "python",
   "pygments_lexer": "ipython3",
   "version": "3.8.8"
  }
 },
 "nbformat": 4,
 "nbformat_minor": 4
}
