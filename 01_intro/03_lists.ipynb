{
 "cells": [
  {
   "cell_type": "markdown",
   "metadata": {},
   "source": [
    "## Lists\n",
    " - mutable\n",
    " - resizable\n",
    " - stored objects can change\n",
    " - objects can be of different type"
   ]
  },
  {
   "cell_type": "code",
   "execution_count": 8,
   "metadata": {
    "tags": []
   },
   "outputs": [
    {
     "name": "stdout",
     "output_type": "stream",
     "text": [
      "[1, 'string', 4.5]\n",
      "[1, True, 4.5]\n",
      "[1, 2, 3, 4]\n"
     ]
    }
   ],
   "source": [
    "l = []\n",
    "l.append(1)\n",
    "l.append(\"string\")\n",
    "l.append(4.5)\n",
    "print(l)\n",
    "\n",
    "l2 = [1,2,3,4]\n",
    "l[1] = True #second elememt\n",
    "\n",
    "print(l)\n",
    "print(l2)"
   ]
  },
  {
   "cell_type": "code",
   "execution_count": 6,
   "metadata": {
    "tags": []
   },
   "outputs": [
    {
     "data": {
      "text/plain": [
       "4.5"
      ]
     },
     "execution_count": 6,
     "metadata": {},
     "output_type": "execute_result"
    }
   ],
   "source": [
    "l[-1]"
   ]
  },
  {
   "cell_type": "code",
   "execution_count": 7,
   "metadata": {
    "tags": []
   },
   "outputs": [
    {
     "data": {
      "text/plain": [
       "1"
      ]
     },
     "execution_count": 7,
     "metadata": {},
     "output_type": "execute_result"
    }
   ],
   "source": [
    "a = 3\n",
    "l[a - 3]"
   ]
  },
  {
   "cell_type": "markdown",
   "metadata": {},
   "source": [
    "### `list()`\n",
    "- lists can be constructed with the `list()` command\n",
    "- many commands return a `list` (e.g., `sorted`, `str.split()`)"
   ]
  },
  {
   "cell_type": "code",
   "execution_count": 9,
   "metadata": {
    "tags": []
   },
   "outputs": [
    {
     "data": {
      "text/plain": [
       "[0, 1, 2, 3, 4]"
      ]
     },
     "execution_count": 9,
     "metadata": {},
     "output_type": "execute_result"
    }
   ],
   "source": [
    "list(range(5))"
   ]
  },
  {
   "cell_type": "code",
   "execution_count": 10,
   "metadata": {
    "tags": []
   },
   "outputs": [
    {
     "name": "stdout",
     "output_type": "stream",
     "text": [
      "Hi! x is 9\n",
      "Hi! x is 9\n",
      "Hi! x is 9\n",
      "Hi! x=9\n"
     ]
    }
   ],
   "source": [
    "x = 9\n",
    "print(f\"Hi! x is {x}\") #since python 3.6: f-string\n",
    "print(\"Hi! x is {0}\".format(x)) #before: 0 is the positional index to the parameter passed in format\n",
    "print(\"Hi! x is {x}\".format(x=x)) #this is what fstrings do\n",
    "print(f\"Hi! {x=}\") #useful for debugging"
   ]
  },
  {
   "cell_type": "code",
   "execution_count": 12,
   "metadata": {
    "tags": []
   },
   "outputs": [
    {
     "name": "stdout",
     "output_type": "stream",
     "text": [
      "empty_list=[]\n",
      "list_from_range=[0, 1, 2, 3, 4, 5, 6, 7, 8, 9]\n",
      "list_from_string=['h', 'e', 'l', 'l', 'o', ' ', 'w', 'o', 'r', 'l', 'd']\n",
      "list_from_split=['name', 'surname']\n"
     ]
    }
   ],
   "source": [
    "empty_list = list()\n",
    "print(f\"{empty_list=}\")\n",
    "\n",
    "list_from_range = list(range(10))\n",
    "print(f\"{list_from_range=}\")\n",
    "\n",
    "list_from_string = list(\"hello world\")\n",
    "print(f\"{list_from_string=}\")\n",
    "\n",
    "list_from_split = \"name surname\".split()\n",
    "print(f\"{list_from_split=}\")"
   ]
  },
  {
   "cell_type": "markdown",
   "metadata": {},
   "source": [
    "### slicing\n",
    " - `list[start:stop:step]` note that `[start:stop)`\n",
    " - if omitted `start==0`\n",
    " - if `stop` is omitted means till last element **included**\n",
    " - if omitetted `step==1`"
   ]
  },
  {
   "cell_type": "code",
   "execution_count": 22,
   "metadata": {
    "tags": []
   },
   "outputs": [
    {
     "name": "stdout",
     "output_type": "stream",
     "text": [
      "[0, 1, 2]\n",
      "[0, 1, 2, 3, 4, 5, 6, 7, 8, 9]\n",
      "[0, 1, 2]\n",
      "[0, 1, 2]\n",
      "[0, 1, 2, 3, 4, 5, 6, 7, 8]\n",
      "[9, 8, 7, 6, 5, 4, 3, 2, 1, 0]\n"
     ]
    }
   ],
   "source": [
    "print(list_from_range[0:3:1])  # print first 3 elements\n",
    "l2 = list_from_range[0:3:1]\n",
    "print(list_from_range)\n",
    "print(l2)\n",
    "print(list_from_range[:3])\n",
    "print(list_from_range[:-1:])  # last element is excluded\n",
    "print(list_from_range[::-1])  # reverse order"
   ]
  },
  {
   "cell_type": "code",
   "execution_count": 20,
   "metadata": {
    "tags": []
   },
   "outputs": [
    {
     "data": {
      "text/plain": [
       "[3, 5, 7, 9]"
      ]
     },
     "execution_count": 20,
     "metadata": {},
     "output_type": "execute_result"
    }
   ],
   "source": [
    "list_from_range[3::2]"
   ]
  },
  {
   "cell_type": "code",
   "execution_count": 5,
   "metadata": {},
   "outputs": [
    {
     "name": "stdout",
     "output_type": "stream",
     "text": [
      "[0, 1, 2, 3, 4, 5, 6, 7, 8, 9]\n",
      "[0, 1, 2]\n",
      "[7, 8, 9]\n"
     ]
    }
   ],
   "source": [
    "l = list(range(10))\n",
    "print(l)\n",
    "print(l[:3])\n",
    "print(l[-3:])"
   ]
  },
  {
   "cell_type": "markdown",
   "metadata": {},
   "source": [
    "### len\n",
    " - the size of a list is returned by the `len` command\n"
   ]
  },
  {
   "cell_type": "code",
   "execution_count": 23,
   "metadata": {
    "tags": []
   },
   "outputs": [
    {
     "name": "stdout",
     "output_type": "stream",
     "text": [
      "10\n"
     ]
    }
   ],
   "source": [
    "print(len(list_from_range))"
   ]
  },
  {
   "cell_type": "markdown",
   "metadata": {},
   "source": [
    "### \\+ and \\*\n",
    " - they always return new objects\n",
    " - if you want to modify in place use the augmented assignments `+=`, `*=`,...\n",
    " "
   ]
  },
  {
   "cell_type": "code",
   "execution_count": 25,
   "metadata": {
    "tags": []
   },
   "outputs": [
    {
     "name": "stdout",
     "output_type": "stream",
     "text": [
      "[0, 1, 2, 3, 4, 5, 6, 7, 8, 9, 'h', 'e', 'l', 'l', 'o', ' ', 'w', 'o', 'r', 'l', 'd']\n",
      "[0, 1, 2, 3, 4, 5, 6, 7, 8, 9]\n",
      "[1, True, 4.5]\n",
      "[1, True, 4.5, 1, True, 4.5, 1, True, 4.5]\n",
      "[1, True, 4.5]\n"
     ]
    }
   ],
   "source": [
    "print(list_from_range + list_from_string)\n",
    "print(list_from_range)\n",
    "\n",
    "print(l)\n",
    "print(l * 3)\n",
    "print(l)#original list is not modified"
   ]
  },
  {
   "cell_type": "markdown",
   "metadata": {},
   "source": [
    "### Pay attention to lists of lists"
   ]
  },
  {
   "cell_type": "code",
   "execution_count": 30,
   "metadata": {
    "tags": []
   },
   "outputs": [
    {
     "name": "stdout",
     "output_type": "stream",
     "text": [
      "[['_', '_', '_'], ['_', '_', '_'], ['_', '_', '_']]\n",
      "[['_', 'X', '_'], ['_', 'X', '_'], ['_', 'X', '_']]\n"
     ]
    }
   ],
   "source": [
    "board = [[\"_\"] * 3] * 3 #creates three shallow copies of the list\n",
    "print(board)\n",
    "board[1][1] = \"X\" #puts an x to the second element of the second list, but actually this happens an all 3 lists: \n",
    "#because of shallow copies!\n",
    "print(board)"
   ]
  },
  {
   "cell_type": "markdown",
   "metadata": {},
   "source": [
    "### List comprehensions (aka listcomps)\n",
    " - more readable\n",
    " - inside `[ ]` indentation does not matter and new lines are allowed"
   ]
  },
  {
   "cell_type": "code",
   "execution_count": 32,
   "metadata": {
    "tags": []
   },
   "outputs": [
    {
     "name": "stdout",
     "output_type": "stream",
     "text": [
      "[['_', '_', '_'], ['_', '_', '_'], ['_', '_', '_']]\n"
     ]
    }
   ],
   "source": [
    "a = 2\n",
    "\n",
    "board = [[\"_\"] * 3 for i in range(3)] #no shallow copies. Since i is an unsued variable, I can use _\n",
    "board = [[\"_\"] * 3 for _ in range(3)]\n",
    "print(board)\n"
   ]
  },
  {
   "cell_type": "code",
   "execution_count": 33,
   "metadata": {
    "tags": []
   },
   "outputs": [
    {
     "name": "stdout",
     "output_type": "stream",
     "text": [
      "['O', 'X', 'X']\n",
      "['X', 'X', 'X']\n",
      "['X', 'X', 'X']\n"
     ]
    }
   ],
   "source": [
    "for r in range(3):\n",
    "    for c in range(3):\n",
    "        board[r][c] = \"X\"\n",
    "\n",
    "board[1][1] = \"X\"\n",
    "board[0][0] = \"O\"\n",
    "board[a][a] = \"X\"\n",
    "for r in board:\n",
    "    print(r)"
   ]
  },
  {
   "cell_type": "code",
   "execution_count": 39,
   "metadata": {
    "tags": []
   },
   "outputs": [
    {
     "name": "stdout",
     "output_type": "stream",
     "text": [
      "odd_numbers [1, 3, 5, 7, 9, 11, 13, 15, 17, 19]\n",
      "even_numbers [0, 2, 4, 6, 8, 10, 12, 14, 16, 18]\n"
     ]
    }
   ],
   "source": [
    "odd_numbers = [n for n in range(20) if n%2] # 0 in if è come False\n",
    "\n",
    "print(\"odd_numbers\", odd_numbers)\n",
    "\n",
    "even_numbers = [n for n in range(20) if not n % 2]\n",
    "\n",
    "print(\"even_numbers\", even_numbers)"
   ]
  },
  {
   "cell_type": "code",
   "execution_count": 43,
   "metadata": {
    "tags": []
   },
   "outputs": [
    {
     "name": "stdout",
     "output_type": "stream",
     "text": [
      "554 ns ± 2.36 ns per loop (mean ± std. dev. of 7 runs, 1,000,000 loops each)\n"
     ]
    }
   ],
   "source": [
    "#gives you a statistcis: 1.24 µs ± 32.5 ns per loop (mean ± std. dev. of 7 runs, 1000000 loops each)\n",
    "%timeit odd_numbers = [n for n in range(20) if n % 2]"
   ]
  },
  {
   "cell_type": "code",
   "execution_count": 54,
   "metadata": {
    "tags": []
   },
   "outputs": [
    {
     "name": "stdout",
     "output_type": "stream",
     "text": [
      "627 ns ± 3.17 ns per loop (mean ± std. dev. of 7 runs, 1,000,000 loops each)\n"
     ]
    }
   ],
   "source": [
    "%%timeit\n",
    "#Analogamente:\n",
    "odd_numbers = []\n",
    "for i in range(20):\n",
    "    if i % 2:\n",
    "        odd_numbers.append(i)\n",
    "odd_numbers"
   ]
  },
  {
   "cell_type": "markdown",
   "metadata": {},
   "source": [
    "### `sort` vs. `sorted`\n",
    "- `sorted` returns **new object** \n",
    "- `sort` does it **in place**"
   ]
  },
  {
   "cell_type": "code",
   "execution_count": 29,
   "metadata": {},
   "outputs": [
    {
     "name": "stdout",
     "output_type": "stream",
     "text": [
      "sorted(l) [1, 2, 4, 5, 10]\n",
      "l=[5, 10, 1, 4, 2]\n"
     ]
    }
   ],
   "source": [
    "l = [5, 10, 1, 4, 2]\n",
    "print(\"sorted(l)\",sorted(l))\n",
    "print(f\"{l=}\")\n",
    "#l.sort()\n",
    "#print(\"l after l.sort()\", l)"
   ]
  },
  {
   "cell_type": "markdown",
   "metadata": {},
   "source": [
    "### delete items\n",
    " - `del list[idx]` remove element with offset `idx`. `del` is a Python statement\n",
    " - `list.pop[idx]` remove element with offset `idx` and return it\n",
    " - `list.remove(val)` remove element whose value is val "
   ]
  },
  {
   "cell_type": "code",
   "execution_count": 27,
   "metadata": {},
   "outputs": [
    {
     "name": "stdout",
     "output_type": "stream",
     "text": [
      "l [0, 1, 2, 3, 4]\n",
      "l [0, 2, 3, 4]\n",
      "l [0, 2, 3]\n",
      "a 4\n",
      "l [0, 3]\n"
     ]
    }
   ],
   "source": [
    "l = list(range(5))\n",
    "print(\"l\", l)\n",
    "del l[1]  # delete second element\n",
    "print(\"l\", l)\n",
    "a = l.pop(-1)  # pop last element\n",
    "print(\"l\", l)\n",
    "print(\"a\", a)\n",
    "l.remove(2)\n",
    "print(\"l\", l)"
   ]
  },
  {
   "cell_type": "markdown",
   "metadata": {},
   "source": [
    "### Iterability"
   ]
  },
  {
   "cell_type": "code",
   "execution_count": 30,
   "metadata": {},
   "outputs": [
    {
     "name": "stdout",
     "output_type": "stream",
     "text": [
      "5\n",
      "10\n",
      "1\n",
      "4\n",
      "2\n"
     ]
    }
   ],
   "source": [
    "for x in l:\n",
    "    print(x)"
   ]
  },
  {
   "cell_type": "code",
   "execution_count": 31,
   "metadata": {},
   "outputs": [
    {
     "name": "stdout",
     "output_type": "stream",
     "text": [
      "2\n"
     ]
    }
   ],
   "source": [
    "for x in l:\n",
    "    x = 0 #it simply puts a sticky note with 'x' attached to another box e.x '5' and then move it all yo box '0'\n",
    "#at the end I didn't modify l, I've simply moved sticky notes! \n",
    "print(l[-1]) #returns 0, because variables are just labels!"
   ]
  },
  {
   "cell_type": "markdown",
   "metadata": {},
   "source": [
    "### Unpacking"
   ]
  },
  {
   "cell_type": "code",
   "execution_count": null,
   "metadata": {},
   "outputs": [],
   "source": [
    "n, s = \"name surname\".split()#tuple unpacking since Python2\n",
    "print(f\"{n=}\\n{s=}\")"
   ]
  },
  {
   "cell_type": "markdown",
   "metadata": {},
   "source": [
    "### More"
   ]
  },
  {
   "cell_type": "code",
   "execution_count": null,
   "metadata": {},
   "outputs": [],
   "source": [
    "dir(list)"
   ]
  }
 ],
 "metadata": {
  "kernelspec": {
   "display_name": "Python 3 (ipykernel)",
   "language": "python",
   "name": "python3"
  },
  "language_info": {
   "codemirror_mode": {
    "name": "ipython",
    "version": 3
   },
   "file_extension": ".py",
   "mimetype": "text/x-python",
   "name": "python",
   "nbconvert_exporter": "python",
   "pygments_lexer": "ipython3",
   "version": "3.10.12"
  }
 },
 "nbformat": 4,
 "nbformat_minor": 4
}
