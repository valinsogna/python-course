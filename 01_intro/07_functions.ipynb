{
 "cells": [
  {
   "cell_type": "markdown",
   "metadata": {},
   "source": [
    "## Functions\n",
    "```python\n",
    "def function_name(arg1, arg2, arg3):\n",
    "    '''Documentation\n",
    "    eventually, on multiple\n",
    "    lines\n",
    "    aka docstring\n",
    "    '''\n",
    "    body\n",
    "```\n",
    "* `return` statement is optional\n",
    "* `return` you can return multiple elements returning a `tuple`\n",
    "```python\n",
    "    return a,b,c #tuple packing. And when you call it you do unpacking!\n",
    "```"
   ]
  },
  {
   "cell_type": "code",
   "execution_count": 1,
   "metadata": {},
   "outputs": [
    {
     "name": "stdout",
     "output_type": "stream",
     "text": [
      "hello alberto\n",
      "hello alberto\n"
     ]
    }
   ],
   "source": [
    "def hello(name):\n",
    "    \"\"\"prints 'hello' followed by the arg name\"\"\"\n",
    "    print(\"hello\", name)\n",
    "\n",
    "\n",
    "hello(\"alberto\")\n",
    "hello(name=\"alberto\")#Args can be used as a keyword: useful cause you don't have to remember the order!! #keywords args"
   ]
  },
  {
   "cell_type": "code",
   "execution_count": 2,
   "metadata": {},
   "outputs": [
    {
     "name": "stdin",
     "output_type": "stream",
     "text": [
      "write your name Valeria\n"
     ]
    },
    {
     "name": "stdout",
     "output_type": "stream",
     "text": [
      "hello Valeria\n"
     ]
    }
   ],
   "source": [
    "def interactive_hello():\n",
    "    \"\"\"prompt the user for a name, then prints \"hello\" followed by the name\"\"\"\n",
    "    name = str(input(\"write your name\"))#input always returns a string (str is not needed, it's  a remainder). It's like std::cin in C++\n",
    "    print(\"hello\", name)\n",
    "\n",
    "\n",
    "interactive_hello()"
   ]
  },
  {
   "cell_type": "code",
   "execution_count": 4,
   "metadata": {},
   "outputs": [
    {
     "name": "stdout",
     "output_type": "stream",
     "text": [
      "<class 'tuple'>\n",
      "hello alberto\n",
      "hello luigi\n",
      "hello stefania\n"
     ]
    }
   ],
   "source": [
    "def multi_hello(*names):#accepts whatever numbers of args!\n",
    "    \"\"\"for each name in names print \"hello\" name\"\"\"\n",
    "    print(type(names))#TUPLE. why not liost? Cause tuples are faster and immutable\n",
    "    for i in names:\n",
    "        print(\"hello\", i)\n",
    "\n",
    "\n",
    "multi_hello(\"alberto\", \"luigi\", \"stefania\")#positional args"
   ]
  },
  {
   "cell_type": "code",
   "execution_count": 5,
   "metadata": {},
   "outputs": [
    {
     "name": "stdout",
     "output_type": "stream",
     "text": [
      "42 1e-09\n"
     ]
    }
   ],
   "source": [
    "def dwim():\n",
    "    \"\"\"super complicated algorithm which returns value and error estimation\"\"\"\n",
    "    value = 42\n",
    "    error = 1e-9\n",
    "    return value, error #pack\n",
    "\n",
    "\n",
    "v, e = dwim()#unpack\n",
    "print(v, e)"
   ]
  },
  {
   "cell_type": "markdown",
   "metadata": {},
   "source": [
    "### Keyword and positional arguments\n",
    "\n",
    "* keyword arguments are passed as a dictionary {key:value,...}\n",
    "* non-keyword arguments are called positional arguments\n",
    "* `*expression` must evaluate an iterable"
   ]
  },
  {
   "cell_type": "code",
   "execution_count": 6,
   "metadata": {},
   "outputs": [],
   "source": [
    "def foo(*positional, **keywords):\n",
    "    print(\"Positional:\", positional, end=\"\\t\")\n",
    "    print(\"Keywords:\", keywords)"
   ]
  },
  {
   "cell_type": "code",
   "execution_count": 7,
   "metadata": {},
   "outputs": [
    {
     "name": "stdout",
     "output_type": "stream",
     "text": [
      "Positional: ('1st', '2nd', '3rd')\tKeywords: {}\n"
     ]
    }
   ],
   "source": [
    "foo(\"1st\", \"2nd\", \"3rd\") #positionals are tuples, keywords are dict!"
   ]
  },
  {
   "cell_type": "code",
   "execution_count": 8,
   "metadata": {},
   "outputs": [
    {
     "name": "stdout",
     "output_type": "stream",
     "text": [
      "Positional: ()\tKeywords: {'par1': 1, 'par2': '2nd', 'par3': '3rd'}\n"
     ]
    }
   ],
   "source": [
    "foo(par1=1, par2=\"2nd\", par3=\"3rd\")#keywords are dict and KEYS ARE ALWAYS STRINGS"
   ]
  },
  {
   "cell_type": "code",
   "execution_count": 9,
   "metadata": {},
   "outputs": [
    {
     "name": "stdout",
     "output_type": "stream",
     "text": [
      "Positional: ('1st',)\tKeywords: {'pippo': '2nd', 'par3': '3rd'}\n"
     ]
    }
   ],
   "source": [
    "foo(\"1st\", pippo=\"2nd\", par3=\"3rd\")#combined but POSITIONAL comes FIRST"
   ]
  },
  {
   "cell_type": "code",
   "execution_count": 10,
   "metadata": {},
   "outputs": [
    {
     "ename": "SyntaxError",
     "evalue": "positional argument follows keyword argument (<ipython-input-10-cd065dc233ad>, line 1)",
     "output_type": "error",
     "traceback": [
      "\u001b[0;36m  File \u001b[0;32m\"<ipython-input-10-cd065dc233ad>\"\u001b[0;36m, line \u001b[0;32m1\u001b[0m\n\u001b[0;31m    foo(par2=2, '1st')\u001b[0m\n\u001b[0m                ^\u001b[0m\n\u001b[0;31mSyntaxError\u001b[0m\u001b[0;31m:\u001b[0m positional argument follows keyword argument\n"
     ]
    }
   ],
   "source": [
    "foo(par2=2, '1st')#gets an error"
   ]
  },
  {
   "cell_type": "code",
   "execution_count": 11,
   "metadata": {},
   "outputs": [
    {
     "name": "stdout",
     "output_type": "stream",
     "text": [
      "Positional: ('tuple', 'unpacking')\tKeywords: {'par1': '1st_key', 'par2': '2nd_key'}\n"
     ]
    }
   ],
   "source": [
    "foo(par1=\"1st_key\", *(\"tuple\", \"unpacking\"), par2=\"2nd_key\") #this way no, but avoid it!"
   ]
  },
  {
   "cell_type": "code",
   "execution_count": 12,
   "metadata": {},
   "outputs": [
    {
     "name": "stdout",
     "output_type": "stream",
     "text": [
      "Positional: ('1st_pos', '2st_pos', '3rd_pos')\tKeywords: {'par1': '1st_key', 'par2': '2nd_key'}\n"
     ]
    }
   ],
   "source": [
    "foo(par1=\"1st_key\", *[\"1st_pos\"], par2=\"2nd_key\", *[\"2st_pos\", \"3rd_pos\"])"
   ]
  },
  {
   "cell_type": "markdown",
   "metadata": {},
   "source": [
    "### Anonymous functions, aka lambda functions\n",
    "```python\n",
    "lambda arg1,arg2,arg3: expression\n",
    "```\n",
    "\n",
    "- any number of args, but only 1 expression that **returns** a value\n",
    "- also zero arguments..."
   ]
  },
  {
   "cell_type": "code",
   "execution_count": 1,
   "metadata": {},
   "outputs": [
    {
     "name": "stdout",
     "output_type": "stream",
     "text": [
      "{'c': 100, 'a': 10, 'z': 50}\n"
     ]
    }
   ],
   "source": [
    "d = {\"c\": 100, \"a\": 10, \"z\": 50}\n",
    "print(d)"
   ]
  },
  {
   "cell_type": "code",
   "execution_count": 2,
   "metadata": {},
   "outputs": [
    {
     "name": "stdout",
     "output_type": "stream",
     "text": [
      "c 100\n",
      "a 10\n",
      "z 50\n"
     ]
    }
   ],
   "source": [
    "for k, v in d.items():\n",
    "    print(k, v)"
   ]
  },
  {
   "cell_type": "code",
   "execution_count": 3,
   "metadata": {},
   "outputs": [
    {
     "data": {
      "text/plain": [
       "[('a', 10), ('c', 100), ('z', 50)]"
      ]
     },
     "execution_count": 3,
     "metadata": {},
     "output_type": "execute_result"
    }
   ],
   "source": [
    "sorted(d.items())"
   ]
  },
  {
   "cell_type": "code",
   "execution_count": 4,
   "metadata": {},
   "outputs": [
    {
     "name": "stdout",
     "output_type": "stream",
     "text": [
      "a 10\n",
      "c 100\n",
      "z 50\n"
     ]
    }
   ],
   "source": [
    "for k, v in sorted(d.items(), reverse=False):\n",
    "    print(k, v)"
   ]
  },
  {
   "cell_type": "code",
   "execution_count": 5,
   "metadata": {},
   "outputs": [
    {
     "name": "stdout",
     "output_type": "stream",
     "text": [
      "10\n",
      "50\n",
      "100\n"
     ]
    }
   ],
   "source": [
    "for v in sorted(d.values()):\n",
    "    print(v)"
   ]
  },
  {
   "cell_type": "code",
   "execution_count": 7,
   "metadata": {},
   "outputs": [
    {
     "name": "stdout",
     "output_type": "stream",
     "text": [
      "Help on built-in function sorted in module builtins:\n",
      "\n",
      "sorted(iterable, /, *, key=None, reverse=False)\n",
      "    Return a new list containing all items from the iterable in ascending order.\n",
      "    \n",
      "    A custom key function can be supplied to customize the sort order, and the\n",
      "    reverse flag can be set to request the result in descending order.\n",
      "\n"
     ]
    }
   ],
   "source": [
    "help(sorted)"
   ]
  },
  {
   "cell_type": "code",
   "execution_count": 6,
   "metadata": {},
   "outputs": [
    {
     "data": {
      "text/plain": [
       "[('a', 10), ('z', 50), ('c', 100)]"
      ]
     },
     "execution_count": 6,
     "metadata": {},
     "output_type": "execute_result"
    }
   ],
   "source": [
    "sorted(d.items(), key=lambda x: x[1])#key must be a function that takes 1 arg and it's invocked for each elem of d.items()!!\n",
    "#d.items() returns a collection of tuples\n",
    "#I take the second element "
   ]
  },
  {
   "cell_type": "code",
   "execution_count": 8,
   "metadata": {},
   "outputs": [
    {
     "data": {
      "text/plain": [
       "[('a', 10), ('z', 50), ('c', 100)]"
      ]
     },
     "execution_count": 8,
     "metadata": {},
     "output_type": "execute_result"
    }
   ],
   "source": [
    "def get_second_element(x): #lambda might take too long, so use a function\n",
    "    return x[1]\n",
    "\n",
    "\n",
    "sorted(d.items(), key=get_second_element)"
   ]
  },
  {
   "cell_type": "code",
   "execution_count": 9,
   "metadata": {},
   "outputs": [
    {
     "data": {
      "text/plain": [
       "\u001b[0;31mSignature:\u001b[0m \u001b[0msorted\u001b[0m\u001b[0;34m(\u001b[0m\u001b[0miterable\u001b[0m\u001b[0;34m,\u001b[0m \u001b[0;34m/\u001b[0m\u001b[0;34m,\u001b[0m \u001b[0;34m*\u001b[0m\u001b[0;34m,\u001b[0m \u001b[0mkey\u001b[0m\u001b[0;34m=\u001b[0m\u001b[0;32mNone\u001b[0m\u001b[0;34m,\u001b[0m \u001b[0mreverse\u001b[0m\u001b[0;34m=\u001b[0m\u001b[0;32mFalse\u001b[0m\u001b[0;34m)\u001b[0m\u001b[0;34m\u001b[0m\u001b[0;34m\u001b[0m\u001b[0m\n",
       "\u001b[0;31mDocstring:\u001b[0m\n",
       "Return a new list containing all items from the iterable in ascending order.\n",
       "\n",
       "A custom key function can be supplied to customize the sort order, and the\n",
       "reverse flag can be set to request the result in descending order.\n",
       "\u001b[0;31mType:\u001b[0m      builtin_function_or_method\n"
      ]
     },
     "metadata": {},
     "output_type": "display_data"
    }
   ],
   "source": [
    "sorted?? #key must be pass as a keyword arg"
   ]
  },
  {
   "cell_type": "code",
   "execution_count": 10,
   "metadata": {},
   "outputs": [
    {
     "name": "stdout",
     "output_type": "stream",
     "text": [
      "a 10\n",
      "z 50\n",
      "c 100\n"
     ]
    }
   ],
   "source": [
    "for k, v in sorted(d.items(), key=lambda x: x[1]):\n",
    "    print(k, v)"
   ]
  },
  {
   "cell_type": "markdown",
   "metadata": {},
   "source": [
    "###  functions are first-class objects\n",
    "First-class object is a program entity that can be:\n",
    "- created at runtime\n",
    "- assigned to a variable or element in a data structure\n",
    "- passed as an argument to a function\n",
    "- returned as the result of a function"
   ]
  },
  {
   "cell_type": "code",
   "execution_count": 11,
   "metadata": {},
   "outputs": [
    {
     "name": "stdout",
     "output_type": "stream",
     "text": [
      "<class 'function'>\n",
      "hello\n"
     ]
    }
   ],
   "source": [
    "def hello():\n",
    "    print(\"hello\")\n",
    "\n",
    "\n",
    "print(type(hello))\n",
    "\n",
    "a = hello\n",
    "a()"
   ]
  },
  {
   "cell_type": "markdown",
   "metadata": {},
   "source": [
    "### functions can use recursion"
   ]
  },
  {
   "cell_type": "code",
   "execution_count": 12,
   "metadata": {},
   "outputs": [],
   "source": [
    "def factorial2(n):\n",
    "    ret = 1\n",
    "    while n > 0:\n",
    "        ret *= n\n",
    "        n -= 1\n",
    "    return ret"
   ]
  },
  {
   "cell_type": "code",
   "execution_count": 13,
   "metadata": {},
   "outputs": [],
   "source": [
    "def factorial(n):\n",
    "    if n < 2:\n",
    "        return 1\n",
    "    return n * factorial(n - 1)"
   ]
  },
  {
   "cell_type": "code",
   "execution_count": 14,
   "metadata": {},
   "outputs": [
    {
     "data": {
      "text/plain": [
       "720"
      ]
     },
     "execution_count": 14,
     "metadata": {},
     "output_type": "execute_result"
    }
   ],
   "source": [
    "factorial(6)"
   ]
  },
  {
   "cell_type": "code",
   "execution_count": 15,
   "metadata": {},
   "outputs": [
    {
     "data": {
      "text/plain": [
       "145183092028285869634070784086308284983740379224208358846781574688061991349156420080065207861248000000000000000000"
      ]
     },
     "execution_count": 15,
     "metadata": {},
     "output_type": "execute_result"
    }
   ],
   "source": [
    "def factorial(n):\n",
    "    return 1 if n < 2 else n * factorial(n - 1) #ternary operator : if condition reverse!\n",
    "\n",
    "\n",
    "factorial(77)"
   ]
  },
  {
   "cell_type": "markdown",
   "metadata": {},
   "source": [
    "### args name in functions can be used as `keyword`"
   ]
  },
  {
   "cell_type": "code",
   "execution_count": 16,
   "metadata": {},
   "outputs": [
    {
     "name": "stdout",
     "output_type": "stream",
     "text": [
      "hello\n"
     ]
    }
   ],
   "source": [
    "eval(\"print('hello')\")"
   ]
  },
  {
   "cell_type": "code",
   "execution_count": 17,
   "metadata": {},
   "outputs": [
    {
     "name": "stdout",
     "output_type": "stream",
     "text": [
      "a got to_a\n",
      "b got to_b\n",
      "c got to_c\n"
     ]
    }
   ],
   "source": [
    "def abc(a, b, c):\n",
    "    for i in (\"a\", \"b\", \"c\"):\n",
    "        print(i, \"got\", eval(i))\n",
    "\n",
    "\n",
    "abc(\"to_a\", \"to_b\", \"to_c\")"
   ]
  },
  {
   "cell_type": "code",
   "execution_count": 18,
   "metadata": {},
   "outputs": [
    {
     "name": "stdout",
     "output_type": "stream",
     "text": [
      "a got to_a\n",
      "b got to_b\n",
      "c got to_c\n"
     ]
    }
   ],
   "source": [
    "abc(b=\"to_b\", c=\"to_c\", a=\"to_a\")"
   ]
  },
  {
   "cell_type": "markdown",
   "metadata": {},
   "source": [
    "###  if you want keyord-only arguments, put a `*` in the signature"
   ]
  },
  {
   "cell_type": "code",
   "execution_count": 23,
   "metadata": {},
   "outputs": [
    {
     "name": "stdout",
     "output_type": "stream",
     "text": [
      "a got to_a\n",
      "b got to_b\n",
      "c got to_c\n"
     ]
    }
   ],
   "source": [
    "def abc_keyword_only(foo, *, a, b, c): #args that follows * can be invoked only by keyword\n",
    "    for i in (\"a\", \"b\", \"c\"):\n",
    "        print(i, \"got\", eval(i))\n",
    "\n",
    "\n",
    "# abc_keyword_only('to_a', 'to_b', 'to_c') # error\n",
    "abc_keyword_only(b=\"to_b\", c=\"to_c\", a=\"to_a\", foo='fooBar')"
   ]
  },
  {
   "cell_type": "markdown",
   "metadata": {},
   "source": [
    "### define which args cannot be used as keyword args"
   ]
  },
  {
   "cell_type": "code",
   "execution_count": 24,
   "metadata": {},
   "outputs": [
    {
     "name": "stdout",
     "output_type": "stream",
     "text": [
      "obj='first', key1=<class 'int'>, key2=<function <lambda> at 0x7fdbd8bbb4c0>\n",
      "obj='first', key1=<class 'int'>, key2=<function <lambda> at 0x7fdbd8bbb4c0>\n"
     ]
    }
   ],
   "source": [
    "def mix(obj, /, key1, *, key2): #args before / can be invoked only by position\n",
    "    \"\"\"obj only positional\n",
    "       key1 both poistional and keyword arg\n",
    "       key2 only keyword\"\"\"\n",
    "    print(f\"{obj=}, {key1=}, {key2=}\")\n",
    "\n",
    "\n",
    "mix(\"first\", key2=lambda: 3 / 4, key1=int)\n",
    "\n",
    "mix(\"first\", int, key2=lambda: 3 / 4)"
   ]
  },
  {
   "cell_type": "code",
   "execution_count": 25,
   "metadata": {},
   "outputs": [
    {
     "ename": "TypeError",
     "evalue": "mix() got some positional-only arguments passed as keyword arguments: 'obj'",
     "output_type": "error",
     "traceback": [
      "\u001b[0;31m---------------------------------------------------------------------------\u001b[0m",
      "\u001b[0;31mTypeError\u001b[0m                                 Traceback (most recent call last)",
      "\u001b[0;32m<ipython-input-25-c9927e4d7533>\u001b[0m in \u001b[0;36m<module>\u001b[0;34m\u001b[0m\n\u001b[0;32m----> 1\u001b[0;31m \u001b[0mmix\u001b[0m\u001b[0;34m(\u001b[0m\u001b[0mobj\u001b[0m\u001b[0;34m=\u001b[0m\u001b[0;34m\"first\"\u001b[0m\u001b[0;34m,\u001b[0m \u001b[0mkey1\u001b[0m\u001b[0;34m=\u001b[0m\u001b[0mint\u001b[0m\u001b[0;34m,\u001b[0m \u001b[0mkey2\u001b[0m\u001b[0;34m=\u001b[0m\u001b[0;32mlambda\u001b[0m\u001b[0;34m:\u001b[0m \u001b[0;36m3\u001b[0m \u001b[0;34m/\u001b[0m \u001b[0;36m4\u001b[0m\u001b[0;34m)\u001b[0m \u001b[0;31m# error\u001b[0m\u001b[0;34m\u001b[0m\u001b[0;34m\u001b[0m\u001b[0m\n\u001b[0m",
      "\u001b[0;31mTypeError\u001b[0m: mix() got some positional-only arguments passed as keyword arguments: 'obj'"
     ]
    }
   ],
   "source": [
    "mix(obj=\"first\", key1=int, key2=lambda: 3 / 4) # error"
   ]
  },
  {
   "cell_type": "markdown",
   "metadata": {},
   "source": [
    "### default values"
   ]
  },
  {
   "cell_type": "code",
   "execution_count": 26,
   "metadata": {},
   "outputs": [
    {
     "name": "stdout",
     "output_type": "stream",
     "text": [
      "a got default_a\n",
      "b got to_b\n",
      "c got default_c\n"
     ]
    }
   ],
   "source": [
    "def abc_with_default(a=\"default_a\", b=\"default_b\", c=\"default_c\"): #they are MUTABLE obj!\n",
    "    abc(a, b, c)\n",
    "\n",
    "\n",
    "abc_with_default(b=\"to_b\")"
   ]
  },
  {
   "cell_type": "markdown",
   "metadata": {},
   "source": [
    "### documentation"
   ]
  },
  {
   "cell_type": "code",
   "execution_count": 27,
   "metadata": {},
   "outputs": [
    {
     "name": "stdout",
     "output_type": "stream",
     "text": [
      "Help on function foo in module __main__:\n",
      "\n",
      "foo()\n",
      "    string documenting foo(). \n",
      "    accessible via help(foo)\n",
      "\n"
     ]
    }
   ],
   "source": [
    "def foo():\n",
    "    \"\"\"\n",
    "    string documenting foo(). \n",
    "    accessible via help(foo)\n",
    "    \"\"\"\n",
    "    pass\n",
    "\n",
    "\n",
    "help(foo)"
   ]
  },
  {
   "cell_type": "markdown",
   "metadata": {},
   "source": [
    "### function annotations\n",
    "They need an extra tool! They are not used by Python itself, that's way there is no type checking at run-time!\n",
    "Annotations help being in compliance while using the function.\n",
    "mypy file.py tells u the errors! OR\n",
    "pytype file.py"
   ]
  },
  {
   "cell_type": "code",
   "execution_count": 30,
   "metadata": {},
   "outputs": [],
   "source": [
    "def complicated_function(text: str, max_len: int = 80) -> str: #var name : type = def value -> what is returned\n",
    "    \"\"\"documentation for complicated_function\"\"\"\n",
    "    pass"
   ]
  },
  {
   "cell_type": "code",
   "execution_count": 31,
   "metadata": {},
   "outputs": [
    {
     "name": "stdout",
     "output_type": "stream",
     "text": [
      "Help on function complicated_function in module __main__:\n",
      "\n",
      "complicated_function(text: str, max_len: int = 80) -> str\n",
      "    documentation for complicated_function\n",
      "\n"
     ]
    }
   ],
   "source": [
    "help(complicated_function)"
   ]
  },
  {
   "cell_type": "markdown",
   "metadata": {},
   "source": [
    "###  much more"
   ]
  },
  {
   "cell_type": "code",
   "execution_count": 32,
   "metadata": {},
   "outputs": [
    {
     "name": "stdout",
     "output_type": "stream",
     "text": [
      "__annotations__ is {'text': <class 'str'>, 'max_len': <class 'int'>, 'return': <class 'str'>}\n",
      "__call__ is <method-wrapper '__call__' of function object at 0x7fdbd8cc0d30>\n",
      "__class__ is <class 'function'>\n",
      "__closure__ is None\n",
      "__code__ is <code object complicated_function at 0x7fdbd8abaea0, file \"<ipython-input-30-cfce07294eab>\", line 1>\n",
      "__defaults__ is (80,)\n",
      "__delattr__ is <method-wrapper '__delattr__' of function object at 0x7fdbd8cc0d30>\n",
      "__dict__ is {}\n",
      "__dir__ is <built-in method __dir__ of function object at 0x7fdbd8cc0d30>\n",
      "__doc__ is documentation for complicated_function\n",
      "__eq__ is <method-wrapper '__eq__' of function object at 0x7fdbd8cc0d30>\n",
      "__format__ is <built-in method __format__ of function object at 0x7fdbd8cc0d30>\n",
      "__ge__ is <method-wrapper '__ge__' of function object at 0x7fdbd8cc0d30>\n",
      "__get__ is <method-wrapper '__get__' of function object at 0x7fdbd8cc0d30>\n",
      "__getattribute__ is <method-wrapper '__getattribute__' of function object at 0x7fdbd8cc0d30>\n",
      "__globals__ is {'__name__': '__main__', '__doc__': 'Automatically created module for IPython interactive environment', '__package__': None, '__loader__': None, '__spec__': None, '__builtin__': <module 'builtins' (built-in)>, '__builtins__': <module 'builtins' (built-in)>, '_ih': ['', 'd = {\"c\": 100, \"a\": 10, \"z\": 50}\\nprint(d)', 'for k, v in d.items():\\n    print(k, v)', 'sorted(d.items())', 'for k, v in sorted(d.items(), reverse=False):\\n    print(k, v)', 'for v in sorted(d.values()):\\n    print(v)', 'sorted(d.items(), key=lambda x: x[1])', 'help(sorted)', 'def get_second_element(x): #lambda might take too long, so use a function\\n    return x[1]\\n\\n\\nsorted(d.items(), key=get_second_element)', \"get_ipython().run_line_magic('pinfo2', 'sorted')\", 'for k, v in sorted(d.items(), key=lambda x: x[1]):\\n    print(k, v)', 'def hello():\\n    print(\"hello\")\\n\\n\\nprint(type(hello))\\n\\na = hello\\na()', 'def factorial2(n):\\n    ret = 1\\n    while n > 0:\\n        ret *= n\\n        n -= 1\\n    return ret', 'def factorial(n):\\n    if n < 2:\\n        return 1\\n    return n * factorial(n - 1)', 'factorial(6)', 'def factorial(n):\\n    return 1 if n < 2 else n * factorial(n - 1)\\n\\n\\nfactorial(77)', 'eval(\"print(\\'hello\\')\")', 'def abc(a, b, c):\\n    for i in (\"a\", \"b\", \"c\"):\\n        print(i, \"got\", eval(i))\\n\\n\\nabc(\"to_a\", \"to_b\", \"to_c\")', 'abc(b=\"to_b\", c=\"to_c\", a=\"to_a\")', 'def abc_keyword_only(*, a, b, c): #args that follows * can be invoked only by keyword\\n    for i in (\"a\", \"b\", \"c\"):\\n        print(i, \"got\", eval(i))\\n\\n\\n# abc_keyword_only(\\'to_a\\', \\'to_b\\', \\'to_c\\') # error\\nabc_keyword_only(b=\"to_b\", c=\"to_c\", a=\"to_a\")', 'def mix(obj, /, key1, *, key2):\\n    \"\"\"obj only positional\\n       key1 both poistional and keyword arg\\n       key2 only keyword\"\"\"\\n    print(f\"{obj=}, {key1=}, {key2=}\")\\n\\n\\nmix(\"first\", key2=lambda: 3 / 4, key1=int)\\n\\nmix(\"first\", int, key2=lambda: 3 / 4)', 'def abc_keyword_only(foo, *, a, b, c): #args that follows * can be invoked only by keyword\\n    for i in (\"a\", \"b\", \"c\"):\\n        print(i, \"got\", eval(i))\\n\\n\\n# abc_keyword_only(\\'to_a\\', \\'to_b\\', \\'to_c\\') # error\\nabc_keyword_only(b=\"to_b\", c=\"to_c\", a=\"to_a\", foo=\\'fooBar\\')', 'def abc_keyword_only(foo, *, a, b, c): #args that follows * can be invoked only by keyword\\n    for i in (\"a\", \"b\", \"c\",*):\\n        print(i, \"got\", eval(i))\\n\\n\\n# abc_keyword_only(\\'to_a\\', \\'to_b\\', \\'to_c\\') # error\\nabc_keyword_only(b=\"to_b\", c=\"to_c\", a=\"to_a\", foo=\\'fooBar\\')', 'def abc_keyword_only(foo, *, a, b, c): #args that follows * can be invoked only by keyword\\n    for i in (\"a\", \"b\", \"c\"):\\n        print(i, \"got\", eval(i))\\n\\n\\n# abc_keyword_only(\\'to_a\\', \\'to_b\\', \\'to_c\\') # error\\nabc_keyword_only(b=\"to_b\", c=\"to_c\", a=\"to_a\", foo=\\'fooBar\\')', 'def mix(obj, /, key1, *, key2): #args before / can be invoked only by position\\n    \"\"\"obj only positional\\n       key1 both poistional and keyword arg\\n       key2 only keyword\"\"\"\\n    print(f\"{obj=}, {key1=}, {key2=}\")\\n\\n\\nmix(\"first\", key2=lambda: 3 / 4, key1=int)\\n\\nmix(\"first\", int, key2=lambda: 3 / 4)', 'mix(obj=\"first\", key1=int, key2=lambda: 3 / 4) # error', 'def abc_with_default(a=\"default_a\", b=\"default_b\", c=\"default_c\"):\\n    abc(a, b, c)\\n\\n\\nabc_with_default(b=\"to_b\")', 'def foo():\\n    \"\"\"\\n    string documenting foo(). \\n    accessible via help(foo)\\n    \"\"\"\\n    pass\\n\\n\\nhelp(foo)', 'def complicated_function(text: str, max_len: \"int>0\" = 80) -> str:\\n    \"\"\"documentation for complicated_function\"\"\"\\n    pass', 'help(complicated_function)', 'def complicated_function(text: str, max_len: int = 80) -> str: #var name : type = def value -> what is returned\\n    \"\"\"documentation for complicated_function\"\"\"\\n    pass', 'help(complicated_function)', 'for i in dir(complicated_function):\\n    print(i, \"is\", eval(\"complicated_function.\" + i))'], '_oh': {3: [('a', 10), ('c', 100), ('z', 50)], 6: [('a', 10), ('z', 50), ('c', 100)], 8: [('a', 10), ('z', 50), ('c', 100)], 14: 720, 15: 145183092028285869634070784086308284983740379224208358846781574688061991349156420080065207861248000000000000000000}, '_dh': ['/Users/valeria/Desktop/Corsi/Ad_Progr/advanced_programming_2021/python/01_intro'], 'In': ['', 'd = {\"c\": 100, \"a\": 10, \"z\": 50}\\nprint(d)', 'for k, v in d.items():\\n    print(k, v)', 'sorted(d.items())', 'for k, v in sorted(d.items(), reverse=False):\\n    print(k, v)', 'for v in sorted(d.values()):\\n    print(v)', 'sorted(d.items(), key=lambda x: x[1])', 'help(sorted)', 'def get_second_element(x): #lambda might take too long, so use a function\\n    return x[1]\\n\\n\\nsorted(d.items(), key=get_second_element)', \"get_ipython().run_line_magic('pinfo2', 'sorted')\", 'for k, v in sorted(d.items(), key=lambda x: x[1]):\\n    print(k, v)', 'def hello():\\n    print(\"hello\")\\n\\n\\nprint(type(hello))\\n\\na = hello\\na()', 'def factorial2(n):\\n    ret = 1\\n    while n > 0:\\n        ret *= n\\n        n -= 1\\n    return ret', 'def factorial(n):\\n    if n < 2:\\n        return 1\\n    return n * factorial(n - 1)', 'factorial(6)', 'def factorial(n):\\n    return 1 if n < 2 else n * factorial(n - 1)\\n\\n\\nfactorial(77)', 'eval(\"print(\\'hello\\')\")', 'def abc(a, b, c):\\n    for i in (\"a\", \"b\", \"c\"):\\n        print(i, \"got\", eval(i))\\n\\n\\nabc(\"to_a\", \"to_b\", \"to_c\")', 'abc(b=\"to_b\", c=\"to_c\", a=\"to_a\")', 'def abc_keyword_only(*, a, b, c): #args that follows * can be invoked only by keyword\\n    for i in (\"a\", \"b\", \"c\"):\\n        print(i, \"got\", eval(i))\\n\\n\\n# abc_keyword_only(\\'to_a\\', \\'to_b\\', \\'to_c\\') # error\\nabc_keyword_only(b=\"to_b\", c=\"to_c\", a=\"to_a\")', 'def mix(obj, /, key1, *, key2):\\n    \"\"\"obj only positional\\n       key1 both poistional and keyword arg\\n       key2 only keyword\"\"\"\\n    print(f\"{obj=}, {key1=}, {key2=}\")\\n\\n\\nmix(\"first\", key2=lambda: 3 / 4, key1=int)\\n\\nmix(\"first\", int, key2=lambda: 3 / 4)', 'def abc_keyword_only(foo, *, a, b, c): #args that follows * can be invoked only by keyword\\n    for i in (\"a\", \"b\", \"c\"):\\n        print(i, \"got\", eval(i))\\n\\n\\n# abc_keyword_only(\\'to_a\\', \\'to_b\\', \\'to_c\\') # error\\nabc_keyword_only(b=\"to_b\", c=\"to_c\", a=\"to_a\", foo=\\'fooBar\\')', 'def abc_keyword_only(foo, *, a, b, c): #args that follows * can be invoked only by keyword\\n    for i in (\"a\", \"b\", \"c\",*):\\n        print(i, \"got\", eval(i))\\n\\n\\n# abc_keyword_only(\\'to_a\\', \\'to_b\\', \\'to_c\\') # error\\nabc_keyword_only(b=\"to_b\", c=\"to_c\", a=\"to_a\", foo=\\'fooBar\\')', 'def abc_keyword_only(foo, *, a, b, c): #args that follows * can be invoked only by keyword\\n    for i in (\"a\", \"b\", \"c\"):\\n        print(i, \"got\", eval(i))\\n\\n\\n# abc_keyword_only(\\'to_a\\', \\'to_b\\', \\'to_c\\') # error\\nabc_keyword_only(b=\"to_b\", c=\"to_c\", a=\"to_a\", foo=\\'fooBar\\')', 'def mix(obj, /, key1, *, key2): #args before / can be invoked only by position\\n    \"\"\"obj only positional\\n       key1 both poistional and keyword arg\\n       key2 only keyword\"\"\"\\n    print(f\"{obj=}, {key1=}, {key2=}\")\\n\\n\\nmix(\"first\", key2=lambda: 3 / 4, key1=int)\\n\\nmix(\"first\", int, key2=lambda: 3 / 4)', 'mix(obj=\"first\", key1=int, key2=lambda: 3 / 4) # error', 'def abc_with_default(a=\"default_a\", b=\"default_b\", c=\"default_c\"):\\n    abc(a, b, c)\\n\\n\\nabc_with_default(b=\"to_b\")', 'def foo():\\n    \"\"\"\\n    string documenting foo(). \\n    accessible via help(foo)\\n    \"\"\"\\n    pass\\n\\n\\nhelp(foo)', 'def complicated_function(text: str, max_len: \"int>0\" = 80) -> str:\\n    \"\"\"documentation for complicated_function\"\"\"\\n    pass', 'help(complicated_function)', 'def complicated_function(text: str, max_len: int = 80) -> str: #var name : type = def value -> what is returned\\n    \"\"\"documentation for complicated_function\"\"\"\\n    pass', 'help(complicated_function)', 'for i in dir(complicated_function):\\n    print(i, \"is\", eval(\"complicated_function.\" + i))'], 'Out': {3: [('a', 10), ('c', 100), ('z', 50)], 6: [('a', 10), ('z', 50), ('c', 100)], 8: [('a', 10), ('z', 50), ('c', 100)], 14: 720, 15: 145183092028285869634070784086308284983740379224208358846781574688061991349156420080065207861248000000000000000000}, 'get_ipython': <bound method InteractiveShell.get_ipython of <ipykernel.zmqshell.ZMQInteractiveShell object at 0x7fdbd8aa5640>>, 'exit': <IPython.core.autocall.ZMQExitAutocall object at 0x7fdbd8b00e20>, 'quit': <IPython.core.autocall.ZMQExitAutocall object at 0x7fdbd8b00e20>, '_': 145183092028285869634070784086308284983740379224208358846781574688061991349156420080065207861248000000000000000000, '__': 720, '___': [('a', 10), ('z', 50), ('c', 100)], '_i': 'help(complicated_function)', '_ii': 'def complicated_function(text: str, max_len: int = 80) -> str: #var name : type = def value -> what is returned\\n    \"\"\"documentation for complicated_function\"\"\"\\n    pass', '_iii': 'help(complicated_function)', '_i1': 'd = {\"c\": 100, \"a\": 10, \"z\": 50}\\nprint(d)', 'd': {'c': 100, 'a': 10, 'z': 50}, '_i2': 'for k, v in d.items():\\n    print(k, v)', 'k': 'c', 'v': 100, '_i3': 'sorted(d.items())', '_3': [('a', 10), ('c', 100), ('z', 50)], '_i4': 'for k, v in sorted(d.items(), reverse=False):\\n    print(k, v)', '_i5': 'for v in sorted(d.values()):\\n    print(v)', '_i6': 'sorted(d.items(), key=lambda x: x[1])', '_6': [('a', 10), ('z', 50), ('c', 100)], '_i7': 'help(sorted)', '_i8': 'def get_second_element(x): #lambda might take too long, so use a function\\n    return x[1]\\n\\n\\nsorted(d.items(), key=get_second_element)', 'get_second_element': <function get_second_element at 0x7fdbd8b7daf0>, '_8': [('a', 10), ('z', 50), ('c', 100)], '_i9': 'sorted??', '_i10': 'for k, v in sorted(d.items(), key=lambda x: x[1]):\\n    print(k, v)', '_i11': 'def hello():\\n    print(\"hello\")\\n\\n\\nprint(type(hello))\\n\\na = hello\\na()', 'hello': <function hello at 0x7fdbd8bbb940>, 'a': <function hello at 0x7fdbd8bbb940>, '_i12': 'def factorial2(n):\\n    ret = 1\\n    while n > 0:\\n        ret *= n\\n        n -= 1\\n    return ret', 'factorial2': <function factorial2 at 0x7fdbd8bbbc10>, '_i13': 'def factorial(n):\\n    if n < 2:\\n        return 1\\n    return n * factorial(n - 1)', 'factorial': <function factorial at 0x7fdbd8bbbb80>, '_i14': 'factorial(6)', '_14': 720, '_i15': 'def factorial(n):\\n    return 1 if n < 2 else n * factorial(n - 1)\\n\\n\\nfactorial(77)', '_15': 145183092028285869634070784086308284983740379224208358846781574688061991349156420080065207861248000000000000000000, '_i16': 'eval(\"print(\\'hello\\')\")', '_i17': 'def abc(a, b, c):\\n    for i in (\"a\", \"b\", \"c\"):\\n        print(i, \"got\", eval(i))\\n\\n\\nabc(\"to_a\", \"to_b\", \"to_c\")', 'abc': <function abc at 0x7fdbd7695f70>, '_i18': 'abc(b=\"to_b\", c=\"to_c\", a=\"to_a\")', '_i19': 'def abc_keyword_only(*, a, b, c): #args that follows * can be invoked only by keyword\\n    for i in (\"a\", \"b\", \"c\"):\\n        print(i, \"got\", eval(i))\\n\\n\\n# abc_keyword_only(\\'to_a\\', \\'to_b\\', \\'to_c\\') # error\\nabc_keyword_only(b=\"to_b\", c=\"to_c\", a=\"to_a\")', 'abc_keyword_only': <function abc_keyword_only at 0x7fdbd8b7ddc0>, '_i20': 'def mix(obj, /, key1, *, key2):\\n    \"\"\"obj only positional\\n       key1 both poistional and keyword arg\\n       key2 only keyword\"\"\"\\n    print(f\"{obj=}, {key1=}, {key2=}\")\\n\\n\\nmix(\"first\", key2=lambda: 3 / 4, key1=int)\\n\\nmix(\"first\", int, key2=lambda: 3 / 4)', 'mix': <function mix at 0x7fdbd8be9ca0>, '_i21': 'def abc_keyword_only(foo, *, a, b, c): #args that follows * can be invoked only by keyword\\n    for i in (\"a\", \"b\", \"c\"):\\n        print(i, \"got\", eval(i))\\n\\n\\n# abc_keyword_only(\\'to_a\\', \\'to_b\\', \\'to_c\\') # error\\nabc_keyword_only(b=\"to_b\", c=\"to_c\", a=\"to_a\", foo=\\'fooBar\\')', '_i22': 'def abc_keyword_only(foo, *, a, b, c): #args that follows * can be invoked only by keyword\\n    for i in (\"a\", \"b\", \"c\",*):\\n        print(i, \"got\", eval(i))\\n\\n\\n# abc_keyword_only(\\'to_a\\', \\'to_b\\', \\'to_c\\') # error\\nabc_keyword_only(b=\"to_b\", c=\"to_c\", a=\"to_a\", foo=\\'fooBar\\')', '_i23': 'def abc_keyword_only(foo, *, a, b, c): #args that follows * can be invoked only by keyword\\n    for i in (\"a\", \"b\", \"c\"):\\n        print(i, \"got\", eval(i))\\n\\n\\n# abc_keyword_only(\\'to_a\\', \\'to_b\\', \\'to_c\\') # error\\nabc_keyword_only(b=\"to_b\", c=\"to_c\", a=\"to_a\", foo=\\'fooBar\\')', '_i24': 'def mix(obj, /, key1, *, key2): #args before / can be invoked only by position\\n    \"\"\"obj only positional\\n       key1 both poistional and keyword arg\\n       key2 only keyword\"\"\"\\n    print(f\"{obj=}, {key1=}, {key2=}\")\\n\\n\\nmix(\"first\", key2=lambda: 3 / 4, key1=int)\\n\\nmix(\"first\", int, key2=lambda: 3 / 4)', '_i25': 'mix(obj=\"first\", key1=int, key2=lambda: 3 / 4) # error', '_i26': 'def abc_with_default(a=\"default_a\", b=\"default_b\", c=\"default_c\"):\\n    abc(a, b, c)\\n\\n\\nabc_with_default(b=\"to_b\")', 'abc_with_default': <function abc_with_default at 0x7fdbd8cc0430>, '_i27': 'def foo():\\n    \"\"\"\\n    string documenting foo(). \\n    accessible via help(foo)\\n    \"\"\"\\n    pass\\n\\n\\nhelp(foo)', 'foo': <function foo at 0x7fdbd8cc03a0>, '_i28': 'def complicated_function(text: str, max_len: \"int>0\" = 80) -> str:\\n    \"\"\"documentation for complicated_function\"\"\"\\n    pass', 'complicated_function': <function complicated_function at 0x7fdbd8cc0d30>, '_i29': 'help(complicated_function)', '_i30': 'def complicated_function(text: str, max_len: int = 80) -> str: #var name : type = def value -> what is returned\\n    \"\"\"documentation for complicated_function\"\"\"\\n    pass', '_i31': 'help(complicated_function)', '_i32': 'for i in dir(complicated_function):\\n    print(i, \"is\", eval(\"complicated_function.\" + i))', 'i': '__globals__'}\n",
      "__gt__ is <method-wrapper '__gt__' of function object at 0x7fdbd8cc0d30>\n",
      "__hash__ is <method-wrapper '__hash__' of function object at 0x7fdbd8cc0d30>\n",
      "__init__ is <method-wrapper '__init__' of function object at 0x7fdbd8cc0d30>\n",
      "__init_subclass__ is <built-in method __init_subclass__ of type object at 0x1006ab478>\n",
      "__kwdefaults__ is None\n",
      "__le__ is <method-wrapper '__le__' of function object at 0x7fdbd8cc0d30>\n",
      "__lt__ is <method-wrapper '__lt__' of function object at 0x7fdbd8cc0d30>\n",
      "__module__ is __main__\n",
      "__name__ is complicated_function\n",
      "__ne__ is <method-wrapper '__ne__' of function object at 0x7fdbd8cc0d30>\n",
      "__new__ is <built-in method __new__ of type object at 0x1006ab478>\n",
      "__qualname__ is complicated_function\n",
      "__reduce__ is <built-in method __reduce__ of function object at 0x7fdbd8cc0d30>\n",
      "__reduce_ex__ is <built-in method __reduce_ex__ of function object at 0x7fdbd8cc0d30>\n",
      "__repr__ is <method-wrapper '__repr__' of function object at 0x7fdbd8cc0d30>\n",
      "__setattr__ is <method-wrapper '__setattr__' of function object at 0x7fdbd8cc0d30>\n",
      "__sizeof__ is <built-in method __sizeof__ of function object at 0x7fdbd8cc0d30>\n",
      "__str__ is <method-wrapper '__str__' of function object at 0x7fdbd8cc0d30>\n",
      "__subclasshook__ is <built-in method __subclasshook__ of type object at 0x1006ab478>\n"
     ]
    }
   ],
   "source": [
    "for i in dir(complicated_function):\n",
    "    print(i, \"is\", eval(\"complicated_function.\" + i))"
   ]
  },
  {
   "cell_type": "code",
   "execution_count": null,
   "metadata": {},
   "outputs": [],
   "source": []
  }
 ],
 "metadata": {
  "kernelspec": {
   "display_name": "Python 3",
   "language": "python",
   "name": "python3"
  },
  "language_info": {
   "codemirror_mode": {
    "name": "ipython",
    "version": 3
   },
   "file_extension": ".py",
   "mimetype": "text/x-python",
   "name": "python",
   "nbconvert_exporter": "python",
   "pygments_lexer": "ipython3",
   "version": "3.8.8"
  }
 },
 "nbformat": 4,
 "nbformat_minor": 4
}
